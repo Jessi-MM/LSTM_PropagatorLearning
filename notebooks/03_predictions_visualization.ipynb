{
 "cells": [
  {
   "cell_type": "code",
   "execution_count": 2,
   "id": "1daa7d91",
   "metadata": {},
   "outputs": [],
   "source": [
    "import torch\n",
    "import numpy as np\n",
    "from numpy.linalg import *\n",
    "import matplotlib.pyplot as plt\n",
    "import h5py\n",
    "import seaborn as sns\n",
    "\n",
    "\n",
    "# From this project modules:\n",
    "from Python.src.LSTM_module import LSTM\n",
    "from Python.src.DataProcessing import Propagator_Dataset\n",
    "\n",
    "# Enable interactive plot\n",
    "%matplotlib inline\n",
    "color = ['#83b692','#f9ada0', '#f9627d', '#c65b7c', '#5b3758']\n",
    "\n",
    "# To latex plots:\n",
    "from matplotlib import rc\n",
    "\n",
    "rc('text', usetex=True)\n",
    "rc('font',**{'family':'serif','serif':['Palatino']})"
   ]
  },
  {
   "cell_type": "markdown",
   "id": "cd45fc1d",
   "metadata": {},
   "source": [
    "# Loading data test set"
   ]
  },
  {
   "cell_type": "code",
   "execution_count": 3,
   "id": "3e1ee958",
   "metadata": {},
   "outputs": [],
   "source": [
    "# To load the file\n",
    "\n",
    "directory = './DataNew/'\n",
    "name_data = 'ngrid32_delta_20250116-193307.h5'\n",
    "file_path = directory + name_data\n",
    "\n",
    "# --- Load Data ---\n",
    "with h5py.File(file_path, 'r') as h5f:\n",
    "    X_vis = h5f['dataset_X'][:]\n",
    "    y_vis = h5f['dataset_y'][:]"
   ]
  },
  {
   "cell_type": "code",
   "execution_count": 4,
   "id": "a2362e6a",
   "metadata": {},
   "outputs": [
    {
     "name": "stdout",
     "output_type": "stream",
     "text": [
      " Data loaded from: ngrid32_delta_20250116-193307.h5\n",
      " Shape of X_vis: (10, 200, 96)\n",
      "  • Number of trajectories or total data      : 10\n",
      "  • Number of time steps (fs)                 : 200\n",
      "  • Total features per time step: 96\n",
      "    ↳ Composed of:\n",
      "      - Real part     : 32 grid points\n",
      "      - Imag part     : 32 grid points\n",
      "      - Potential     : 32 grid points\n"
     ]
    }
   ],
   "source": [
    "# --- Inspect Shape ---\n",
    "X_shape = X_vis.shape  # e.g., (num_trajectories, num_timesteps, num_features)\n",
    "\n",
    "# --- Assign Shape Dimensions ---\n",
    "num_trajectories, num_timesteps, num_features = X_shape\n",
    "\n",
    "# --- Infer Structure ---\n",
    "num_grid_points = num_features // 3  # assuming 3 features per grid point: real, imag, potential\n",
    "\n",
    "# --- Print Information ---\n",
    "print(\" Data loaded from:\", name_data)\n",
    "print(f\" Shape of X_vis: {X_shape}\")\n",
    "print(f\"  • Number of trajectories or total data      : {num_trajectories}\")\n",
    "print(f\"  • Number of time steps (fs)                 : {num_timesteps}\")\n",
    "print(f\"  • Total features per time step: {num_features}\")\n",
    "print(f\"    ↳ Composed of:\")\n",
    "print(f\"      - Real part     : {num_grid_points} grid points\")\n",
    "print(f\"      - Imag part     : {num_grid_points} grid points\")\n",
    "print(f\"      - Potential     : {num_grid_points} grid points\")\n"
   ]
  },
  {
   "cell_type": "markdown",
   "id": "1b8d6e68",
   "metadata": {},
   "source": [
    "# Loading LSTM class and trained model"
   ]
  },
  {
   "cell_type": "code",
   "execution_count": 5,
   "id": "1550e5e1",
   "metadata": {},
   "outputs": [],
   "source": [
    "model = LSTM(\n",
    "    hidden_size=1024,\n",
    "    num_layers=2,\n",
    "    seq_length=num_timesteps,\n",
    "    num_output=2 * num_grid_points,\n",
    "    input_size=3 * num_grid_points\n",
    ")"
   ]
  },
  {
   "cell_type": "markdown",
   "id": "b9c1ca31",
   "metadata": {},
   "source": [
    "If model was save with: `torch.save(model,'nameModel.pth')`  \n",
    "⚠️ Not recommended"
   ]
  },
  {
   "cell_type": "code",
   "execution_count": 6,
   "id": "becbfe5f",
   "metadata": {},
   "outputs": [
    {
     "data": {
      "text/plain": [
       "LSTM(\n",
       "  (lstm): LSTM(96, 1024, num_layers=2, batch_first=True)\n",
       "  (fc): Linear(in_features=1024, out_features=64, bias=True)\n",
       ")"
      ]
     },
     "execution_count": 6,
     "metadata": {},
     "output_type": "execute_result"
    }
   ],
   "source": [
    "model = torch.load('/home/jessica/Documentos/Trained_LSTM_Models/model5b.pth', map_location='cpu')\n",
    "model.eval()\n"
   ]
  },
  {
   "cell_type": "markdown",
   "id": "a2b180d4",
   "metadata": {},
   "source": [
    "If model was save with `torch.save(model.state_dict(), 'model_name.pth')`, uncomment next  \n",
    "✅ recommended"
   ]
  },
  {
   "cell_type": "code",
   "execution_count": 7,
   "id": "f0ceafbe",
   "metadata": {},
   "outputs": [],
   "source": [
    "\n",
    "# Rebuild the model architecture\n",
    "#model = MyLSTMModelClass(**your_parameters)\n",
    "\n",
    "# Load weights safely to the desired device (CPU in this case)\n",
    "#model.load_state_dict(torch.load('model_name.pth', map_location=torch.device('cpu')))\n",
    "#model.eval()  # Set to inference mode"
   ]
  },
  {
   "cell_type": "markdown",
   "id": "307746a9",
   "metadata": {},
   "source": [
    "# Selecting a sample trajectory"
   ]
  },
  {
   "cell_type": "code",
   "execution_count": 54,
   "id": "81898b57",
   "metadata": {},
   "outputs": [],
   "source": [
    "trajectory_index = 5  # choose the one you want\n",
    "X_single = X_vis[trajectory_index]  # shape: (timesteps, features)"
   ]
  },
  {
   "cell_type": "code",
   "execution_count": 55,
   "id": "6ec89b08",
   "metadata": {},
   "outputs": [
    {
     "data": {
      "text/plain": [
       "torch.Size([1, 200, 96])"
      ]
     },
     "execution_count": 55,
     "metadata": {},
     "output_type": "execute_result"
    }
   ],
   "source": [
    "input_seq = torch.tensor(X_single[:200], dtype=torch.float32).unsqueeze(0)  # shape: (1, seq_len, input_size)\n",
    "input_seq.shape"
   ]
  },
  {
   "cell_type": "code",
   "execution_count": 56,
   "id": "fc492da2",
   "metadata": {},
   "outputs": [],
   "source": [
    "with torch.no_grad():\n",
    "    output_seq = model(input_seq)  # shape: (1, seq_len, output_size)\n",
    "    prediction = output_seq.squeeze(0).numpy()\n"
   ]
  },
  {
   "cell_type": "code",
   "execution_count": 57,
   "id": "881eb992",
   "metadata": {},
   "outputs": [
    {
     "data": {
      "image/png": "[encoded data removed]",
      "text/plain": [
       "<Figure size 432x288 with 1 Axes>"
      ]
     },
     "metadata": {
      "needs_background": "light"
     },
     "output_type": "display_data"
    }
   ],
   "source": [
    "# Extract grid points\n",
    "time = 140\n",
    "num_grid_points = input_seq.shape[2] // 3  # if using real, imag, potential\n",
    "real_pred = prediction[:, :num_grid_points]\n",
    "real_true = y_vis[trajectory_index, :num_timesteps, :num_grid_points]\n",
    "real_previous = input_seq.squeeze(0).numpy()\n",
    "\n",
    "import matplotlib.pyplot as plt\n",
    "\n",
    "plt.plot(real_pred[time], label=\"Predicted Real (t=10)\")\n",
    "plt.plot(real_true[time], label=\"True Real (t=10)\")\n",
    "plt.legend()\n",
    "plt.show()"
   ]
  },
  {
   "cell_type": "code",
   "execution_count": 58,
   "id": "1d9eddcc",
   "metadata": {},
   "outputs": [
    {
     "data": {
      "image/png": "[encoded data removed]",
      "text/plain": [
       "<Figure size 432x288 with 1 Axes>"
      ]
     },
     "metadata": {
      "needs_background": "light"
     },
     "output_type": "display_data"
    }
   ],
   "source": [
    "# Extract grid points\n",
    "time = 140\n",
    "num_grid_points = input_seq.shape[2] // 3  # if using real, imag, potential\n",
    "real_pred = prediction[:, :num_grid_points]\n",
    "real_true = y_vis[trajectory_index, :num_timesteps, :num_grid_points]\n",
    "real_previous = input_seq.squeeze(0).numpy()\n",
    "\n",
    "import matplotlib.pyplot as plt\n",
    "\n",
    "plt.plot(real_pred[time]+real_previous[time-1,:num_grid_points], label=\"Predicted Real (t=10)\")\n",
    "plt.plot(real_true[time]+real_previous[time-1,:num_grid_points], label=\"True Real (t=10)\")\n",
    "plt.legend()\n",
    "plt.show()\n"
   ]
  },
  {
   "cell_type": "code",
   "execution_count": null,
   "id": "74febc41",
   "metadata": {},
   "outputs": [],
   "source": []
  },
  {
   "cell_type": "code",
   "execution_count": null,
   "id": "37ddcf46",
   "metadata": {},
   "outputs": [],
   "source": []
  },
  {
   "cell_type": "markdown",
   "id": "605e72b3",
   "metadata": {},
   "source": []
  }
 ],
 "metadata": {
  "kernelspec": {
   "display_name": "base",
   "language": "python",
   "name": "python3"
  },
  "language_info": {
   "codemirror_mode": {
    "name": "ipython",
    "version": 3
   },
   "file_extension": ".py",
   "mimetype": "text/x-python",
   "name": "python",
   "nbconvert_exporter": "python",
   "pygments_lexer": "ipython3",
   "version": "3.9.7"
  }
 },
 "nbformat": 4,
 "nbformat_minor": 5
}
