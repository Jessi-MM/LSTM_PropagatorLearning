{
 "cells": [
  {
   "cell_type": "code",
   "execution_count": 1,
   "id": "7d0a5db9",
   "metadata": {},
   "outputs": [],
   "source": [
    "import torch\n",
    "from torch import nn\n",
    "from torch.autograd import Variable\n",
    "from torch.utils.data import DataLoader\n",
    "from torchvision import datasets\n",
    "from torchvision.transforms import ToTensor\n",
    "from torch.utils.data.sampler import SubsetRandomSampler\n",
    "from torch.utils.data.sampler import SequentialSampler\n",
    "from torch.utils.data import Dataset\n",
    "import numpy as np\n",
    "from matplotlib import pyplot as plt\n",
    "from scipy import integrate\n",
    "\n",
    "import matplotlib.colors as mcolors\n",
    "from matplotlib import rcParams\n",
    "\n",
    "import os\n",
    "#-----\n",
    "from torch.utils.tensorboard import SummaryWriter\n",
    "\n",
    "# Enable interactive plot\n",
    "#%matplotlib notebook\n",
    "#plt.style.use('pusheen')  # to poster"
   ]
  },
  {
   "cell_type": "markdown",
   "id": "4c4d1030",
   "metadata": {},
   "source": [
    "from matplotlib import rc\n",
    "\n",
    "rc('text', usetex=True)\n",
    "rc('font',**{'family':'serif','serif':['Palatino']})\n",
    "\n",
    "color1 = ['#ff595e','#ffca3a','#8ac926','#1982c4','#6a4c93']\n",
    "color = ['#83b692','#f9ada0', '#f9627d', '#c65b7c', '#5b3758']"
   ]
  },
  {
   "cell_type": "markdown",
   "id": "9a6cd442",
   "metadata": {},
   "source": [
    "## Loading dataset"
   ]
  },
  {
   "cell_type": "code",
   "execution_count": 2,
   "id": "c267a87c",
   "metadata": {},
   "outputs": [],
   "source": [
    "class Propagator_Dataset(Dataset):\n",
    "    \n",
    "    def __init__(self, data, targets, sequence_len, total_data = 8000*200, transform=True, traj=200):\n",
    "        \n",
    "        self.data = data\n",
    "        self.targets = targets\n",
    "        self.transform = transform\n",
    "        self.sequence_len = sequence_len\n",
    "        self.total_data = total_data//sequence_len\n",
    "        self.traj = traj\n",
    "        \n",
    "        self.denom = self.traj//self.sequence_len  # 0-199=200 data per file / 5 = seq len \n",
    "        \n",
    "    def __getitem__(self, index):\n",
    "        \n",
    "        total_data = self.total_data  # 200 data by file (from 0 to 199), 1000 files(from 0 to 999), total data: 200*100 = 200000\n",
    "        \n",
    "        if index > total_data-1:\n",
    "            print(\"Error, this data does not exist\")\n",
    "        else:\n",
    "            index_data = index#(index//self.denom)%self.denom  # because there 0-199=200 data per file / 5 = seq len \n",
    "            #index_t = (index*self.sequence_len-self.traj)%self.traj\n",
    "            \n",
    "            X = np.empty((self.sequence_len,96), np.float32)\n",
    "            y = np.empty((self.sequence_len,64), np.float32)\n",
    "            \n",
    "            for i in range(self.sequence_len):\n",
    "                # Input data: Wavepacket real and imaginary part + Potential at time t\n",
    "                x_r = np.log(4+(np.load(self.data+str(index_data)+'/Wavepacket/'+str(i)+'-wave.npy')).real)\n",
    "                x_i = np.log(4+(np.load(self.data+str(index_data)+'/Wavepacket/'+str(i)+'-wave.npy')).imag)\n",
    "                x_p = np.load(self.data+str(index_data)+'/Potential/'+str(i)+'-potential.npy')\n",
    "                \n",
    "                X[i] = np.concatenate((x_r, x_i, x_p))  # flat array form\n",
    "                \n",
    "                # Output data: Wavepacket real and imaginary part at time t+1\n",
    "                y_r = np.log(4+(np.load(self.targets+str(index_data)+'/Wavepacket/'+str(i+1)+'-wave.npy')).real)\n",
    "                y_i = np.log(4+(np.load(self.targets+str(index_data)+'/Wavepacket/'+str(i+1)+'-wave.npy')).imag)\n",
    "        \n",
    "                y[i] = np.concatenate((y_r, y_i))  # flat array form\n",
    "                \n",
    "            '''  \n",
    "            # Output data: Wavepacket real and imaginary part at time t+sequence len\n",
    "            y_r = (np.load(self.targets+str(index_data)+'/Wavepacket/'+str(index_t+self.sequence_len)+'-wave.npy')).real\n",
    "            y_i = (np.load(self.targets+str(index_data)+'/Wavepacket/'+str(index_t+self.sequence_len)+'-wave.npy')).imag\n",
    "        \n",
    "            y = np.concatenate((y_r, y_i))  # flat array form\n",
    "            '''  \n",
    "        \n",
    "            if self.transform:\n",
    "                X = torch.from_numpy(X)\n",
    "                y = torch.from_numpy(y)\n",
    "        \n",
    "            return X, y#[None, :]\n",
    "    \n",
    "    def __len__(self):\n",
    "        \n",
    "        \n",
    "        return self.total_data"
   ]
  },
  {
   "cell_type": "code",
   "execution_count": 3,
   "id": "610614ef",
   "metadata": {},
   "outputs": [],
   "source": [
    "path = '../../Data_Gaussian/data'  # Directory where are saving our data\n",
    "seq_len = 200  # How many time stamps"
   ]
  },
  {
   "cell_type": "markdown",
   "id": "63d31498",
   "metadata": {},
   "source": [
    "![Ejemplo](img/example_seq_len.png)\n"
   ]
  },
  {
   "cell_type": "code",
   "execution_count": 4,
   "id": "922fe160",
   "metadata": {},
   "outputs": [],
   "source": [
    "dataset = Propagator_Dataset(data=path, targets=path, transform=True, sequence_len=seq_len)"
   ]
  },
  {
   "cell_type": "code",
   "execution_count": 5,
   "id": "43b4cbd0",
   "metadata": {},
   "outputs": [
    {
     "name": "stdout",
     "output_type": "stream",
     "text": [
      "Total of data  8000\n"
     ]
    }
   ],
   "source": [
    "# dataset[i][j][t]\n",
    "# i: num of data or sample\n",
    "# j: 0 to X (input) and 1 to y (label)\n",
    "# t: from 0 to 200, time step\n",
    "\n",
    "dataset_size = len(dataset)\n",
    "print('Total of data ', dataset_size)"
   ]
  },
  {
   "cell_type": "markdown",
   "id": "6bed74e6",
   "metadata": {},
   "source": [
    "## Training and Validation data split"
   ]
  },
  {
   "cell_type": "code",
   "execution_count": 6,
   "id": "c8d3e153",
   "metadata": {},
   "outputs": [],
   "source": [
    "test_split = 0.1\n",
    "validation_split = 0.2  \n",
    "shuffle_dataset = True\n",
    "random_seed= 42"
   ]
  },
  {
   "cell_type": "code",
   "execution_count": 7,
   "id": "9aa46ca3",
   "metadata": {},
   "outputs": [],
   "source": [
    "# Creating data indices for training and validation splits:\n",
    "indices = list(range(dataset_size))\n",
    "split_val = int(np.floor(validation_split * dataset_size))\n",
    "split_test = int(np.floor(test_split * dataset_size))\n",
    "\n",
    "if shuffle_dataset :\n",
    "    np.random.seed(random_seed)\n",
    "    np.random.shuffle(indices)\n",
    "    \n",
    "\n",
    "test_indices = indices[0:split_test] \n",
    "val_indices = indices[split_test:split_test+split_val]   \n",
    "train_indices = indices[split_test+split_val:]\n",
    "\n",
    "#train_indices, val_indices = indices[split:], indices[:split]\n",
    "\n",
    "# Creating PT data samplers and loaders:\n",
    "train_sampler = SubsetRandomSampler(train_indices)\n",
    "val_sampler = SubsetRandomSampler(val_indices)\n",
    "test_sampler = SubsetRandomSampler(test_indices)\n",
    "\n",
    "\n",
    "# Creating PT data samplers and loaders: Sequential form:\n",
    "#train_sampler = SequentialSampler(train_indices)\n",
    "#test_sampler = SequentialSampler(val_indices)"
   ]
  },
  {
   "cell_type": "code",
   "execution_count": 8,
   "id": "7ab5cf46",
   "metadata": {},
   "outputs": [
    {
     "name": "stdout",
     "output_type": "stream",
     "text": [
      "Total of train samples: 5600\n",
      "Total of validation samples: 1600\n",
      "Total of test samples: 800\n"
     ]
    }
   ],
   "source": [
    "print(f\"Total of train samples: {len(train_sampler)}\")\n",
    "print(f\"Total of validation samples: {len(val_sampler)}\")\n",
    "print(f\"Total of test samples: {len(test_sampler)}\")"
   ]
  },
  {
   "cell_type": "code",
   "execution_count": 9,
   "id": "6460ae1e",
   "metadata": {},
   "outputs": [],
   "source": [
    "batch_size = 10"
   ]
  },
  {
   "cell_type": "code",
   "execution_count": 10,
   "id": "257dd572",
   "metadata": {},
   "outputs": [],
   "source": [
    "train_loader = DataLoader(dataset, batch_size=batch_size, sampler=train_sampler)\n",
    "val_loader = DataLoader(dataset, batch_size=batch_size, sampler=val_sampler)\n",
    "test_loader = DataLoader(dataset, batch_size=batch_size, sampler=test_sampler)"
   ]
  },
  {
   "cell_type": "markdown",
   "id": "ca0968aa",
   "metadata": {},
   "source": [
    "## Shape of data"
   ]
  },
  {
   "cell_type": "code",
   "execution_count": 11,
   "id": "d582d214",
   "metadata": {},
   "outputs": [
    {
     "name": "stdout",
     "output_type": "stream",
     "text": [
      "Train data:\n",
      "Shape of X in train loader: torch.Size([10, 200, 96])\n",
      "Shape of y in train loader: torch.Size([10, 200, 64])\n",
      "Batch size: 10\n"
     ]
    }
   ],
   "source": [
    "for X, y in train_loader:\n",
    "    print(\"Train data:\")\n",
    "    print(f\"Shape of X in train loader: {X.shape}\")\n",
    "    print(f\"Shape of y in train loader: {y.shape}\")\n",
    "    print(f\"Batch size: {X.size(0)}\")\n",
    "    break"
   ]
  },
  {
   "cell_type": "markdown",
   "id": "c532cd16",
   "metadata": {},
   "source": [
    "## Visualization"
   ]
  },
  {
   "cell_type": "code",
   "execution_count": 12,
   "id": "4ed2a2c8",
   "metadata": {},
   "outputs": [],
   "source": [
    "# Display features and label.\n",
    "train_features, train_labels = next(iter(train_loader))\n",
    "\n",
    "X_vis = train_features[0].squeeze()\n",
    "y_vis = train_labels[0].squeeze()"
   ]
  },
  {
   "cell_type": "code",
   "execution_count": 13,
   "id": "7a04550b",
   "metadata": {},
   "outputs": [
    {
     "data": {
      "image/png": "[encoded data removed]",
      "text/plain": [
       "<Figure size 432x576 with 2 Axes>"
      ]
     },
     "metadata": {
      "needs_background": "light"
     },
     "output_type": "display_data"
    }
   ],
   "source": [
    "r_n = np.linspace(-1.5,1.5,32)\n",
    "time = int(0)  # from 0 to 199\n",
    "\n",
    "In_real_vis = X_vis[time,0:32].detach().numpy()\n",
    "In_imag_vis = X_vis[time,32:64].detach().numpy()\n",
    "In_pote = X_vis[time,64:96].detach().numpy()\n",
    "\n",
    "Ou_real_vis = y_vis[time,0:32].detach().numpy()\n",
    "Ou_imag_vis = y_vis[time,32:64].detach().numpy()\n",
    "\n",
    "\n",
    "fig, axs = plt.subplots(2,1)\n",
    "\n",
    "\n",
    "# Lenght: au -> Angstroms\n",
    "#axs[0].plot(r_n, In_pote*(1/1.5936e-3), \"-\", label=\"$V(r,t)$\", color=\"C4\")\n",
    "axs[0].plot(r_n, In_pote, \"-\", label=\"$V(r,t)$\", color=\"C4\")\n",
    "axs[0].plot(r_n, In_real_vis, label=\"$\\psi_{real}(r, t)$\", color = \"C0\")  # Escaled\n",
    "axs[0].plot(r_n, In_imag_vis, label=\"$\\psi_{imag}(r, t)$\", color=\"C2\")  # Escaled\n",
    "axs[0].set_title(\"Input\")\n",
    "\n",
    "axs[1].plot(r_n, Ou_real_vis, label=\"$\\psi_{real}(r, t+1)$\", color = \"C0\")  # Escaled\n",
    "axs[1].plot(r_n, Ou_imag_vis, label=\"$\\psi_{imag}(r, t+1)$\", color = \"C2\")  # Escaled\n",
    "axs[1].set_title(\"Output\")\n",
    "\n",
    "\n",
    "for axr1 in axs:\n",
    "    #axr1.set_ylim([-15, 60])\n",
    "    axr1.legend()\n",
    "    #axr1.set(xlabel='Position [$\\AA$]', ylabel='Energy [Kcal/mol]')\n",
    "# Hide x labels and tick labels for top plots and y ticks for right plots.\n",
    "for ax in axs.flat:\n",
    "    ax.label_outer()\n",
    "\n",
    "plt.gcf().set_size_inches(6, 8)\n",
    "ax.legend()\n",
    "plt.show()\n",
    "#plt.savefig('/home/jessica/Tesis/Poster/img/Prueba.png', dpi=700)\n"
   ]
  },
  {
   "cell_type": "markdown",
   "id": "57dae950",
   "metadata": {},
   "source": [
    "## LSTM model\n",
    "___"
   ]
  },
  {
   "cell_type": "code",
   "execution_count": 14,
   "id": "36a3c083",
   "metadata": {},
   "outputs": [],
   "source": [
    "device = 'cpu'"
   ]
  },
  {
   "cell_type": "code",
   "execution_count": 15,
   "id": "1716ed4e",
   "metadata": {},
   "outputs": [],
   "source": [
    "class LSTM(nn.Module):\n",
    "    def __init__(self, num_output, input_size, hidden_size, num_layers, seq_length):\n",
    "        super(LSTM, self).__init__()\n",
    "        self.num_output = num_output  # number of output\n",
    "        self.num_layers = num_layers  # number of layers\n",
    "        self.input_size = input_size  # input size\n",
    "        self.hidden_size = hidden_size  # hidden state\n",
    "        self.seq_length = seq_length  # sequence length\n",
    "\n",
    "        self.lstm = nn.LSTM(input_size=input_size, hidden_size=hidden_size,\n",
    "                          num_layers=num_layers, batch_first=True) #lstm\n",
    "        \n",
    "        #self.fc_1 =  nn.Linear(hidden_size, 1024) #fully connected 1\n",
    "\n",
    "        #self.relu = nn.ReLU()\n",
    "        \n",
    "        self.fc = nn.Linear(hidden_size, num_output) #fully connected last layer\n",
    "    \n",
    "    def forward(self,x):\n",
    "        \n",
    "        h_0 = Variable(torch.zeros(self.num_layers, x.size(0), self.hidden_size)) #hidden state\n",
    "        c_0 = Variable(torch.zeros(self.num_layers, x.size(0), self.hidden_size)) #internal state\n",
    "        \n",
    "        # Propagate input through LSTM\n",
    "        output, (hn, cn) = self.lstm(x, (h_0, c_0)) #lstm with input, hidden, and internal state\n",
    "        #hn = hn.view(-1,self.hidden_size) #reshaping the data for Dense layer next\n",
    "        #out = self.relu(hn)\n",
    "        #out = self.fc_1(out) #first Dense\n",
    "        #out1 = self.relu(output) #relu\n",
    "        out = self.fc(output) #Final Output\n",
    "        return out"
   ]
  },
  {
   "cell_type": "code",
   "execution_count": 16,
   "id": "203deddf",
   "metadata": {},
   "outputs": [],
   "source": [
    "input_size = 96  # number of features: 32 real part +32 complex part +32 potential\n",
    "hidden_size = 1024  # number of features in hidden state\n",
    "num_layers = 2  # number of stacked lstm layers\n",
    "\n",
    "num_output = 64  # number of output: 32 real part + 32 complex part\n",
    "sequence_len = seq_len # lenght of time steps (1 fs each one) total 5 fs\n",
    "\n",
    "learning_rate = 1e-4"
   ]
  },
  {
   "cell_type": "code",
   "execution_count": 17,
   "id": "feaf4cf5",
   "metadata": {},
   "outputs": [],
   "source": [
    "model = LSTM(num_output, input_size, hidden_size, num_layers, sequence_len) #our lstm class"
   ]
  },
  {
   "cell_type": "code",
   "execution_count": 18,
   "id": "8b5990f0",
   "metadata": {},
   "outputs": [],
   "source": [
    "# Initialize the loss function and optimizer\n",
    "criterion = nn.MSELoss().to(device)\n",
    "optimizer = torch.optim.AdamW(model.parameters(), lr=learning_rate)  #weight_decay=0.01 <- default"
   ]
  },
  {
   "cell_type": "code",
   "execution_count": 19,
   "id": "191f61c6",
   "metadata": {},
   "outputs": [
    {
     "name": "stdout",
     "output_type": "stream",
     "text": [
      "LSTM(\n",
      "  (lstm): LSTM(96, 1024, num_layers=2, batch_first=True)\n",
      "  (fc): Linear(in_features=1024, out_features=64, bias=True)\n",
      ")\n"
     ]
    }
   ],
   "source": [
    "print(model)"
   ]
  },
  {
   "cell_type": "markdown",
   "id": "4a434ec8",
   "metadata": {},
   "source": [
    "## Accuracy function"
   ]
  },
  {
   "cell_type": "code",
   "execution_count": 20,
   "id": "2b67c598",
   "metadata": {},
   "outputs": [],
   "source": [
    "def S_overlap(Psi_true, Psi_ANN):\n",
    "    \"\"\"\n",
    "    Input:\n",
    "    Psi_true: Evolution of wavepacket from dataset test, Shape: (batch size, sequence lenght, 64)\n",
    "    Psi_ANN: Evolution of wavepacket predicted with the model, Shape: (batch size, sequence lenght, 64)\n",
    "    \n",
    "    Output:\n",
    "    S: Absolute magnitude\n",
    "    angle: phase\n",
    "    Characterizes the quality of the predictions. See equation (11) of Main article\n",
    "    \n",
    "    \"\"\"\n",
    "    S_tot = []\n",
    "    angle_tot = []\n",
    "    for j in range(batch_size):\n",
    "        for l in range(seq_len):\n",
    "            Psi_true_re = Psi_true[j,l,0:32]  # real part of wavepacket\n",
    "            Psi_true_im = Psi_true[j,l,32:64]  # imaginary part of wavepacket\n",
    "            Psi_t = torch.view_as_complex(torch.stack((Psi_true_re,Psi_true_im), -1))\n",
    "    \n",
    "    \n",
    "            Psi_ANN_re = Psi_ANN[j,l,0:32]  # realpart of wavepacket predicted\n",
    "            Psi_ANN_im = -Psi_ANN[j,l,32:64]  # imaginary part of wavepacket predicted (- because conjugate)\n",
    "            Psi_A = torch.view_as_complex(torch.stack((Psi_ANN_re,Psi_ANN_im), -1))\n",
    "        \n",
    "        \n",
    "        \n",
    "            overlap = []\n",
    "            for i in range(32):\n",
    "                overlap.append(torch.tensor([Psi_A[i]*Psi_t[i]]))\n",
    "            overl = torch.tensor(overlap)\n",
    "        \n",
    "            # Integrate over r (real integral + complex integral)\n",
    "            # Simpson method in the grid r_n (angstroms -> au)\n",
    "            r_n = np.linspace(-1.5,1.5,32)*(1/0.5291775)\n",
    "            overl_real = overl.real.numpy()\n",
    "            overl_imag = overl.imag.numpy()\n",
    "    \n",
    "            real_integ = integrate.simpson(overl_real, r_n)\n",
    "            imag_integ = integrate.simpson(overl_imag, r_n)\n",
    "    \n",
    "            # Covert to phase and magnitude of the complex result\n",
    "            S_tot.append(np.sqrt(real_integ**2 + imag_integ**2))\n",
    "            angle_tot.append(np.arctan(imag_integ/real_integ))\n",
    "        \n",
    "    S = sum(S_tot)/(batch_size*seq_len)\n",
    "    angle = sum(angle_tot)/(batch_size*seq_len)\n",
    "    \n",
    "    return S, angle"
   ]
  },
  {
   "cell_type": "code",
   "execution_count": null,
   "id": "800b0f18",
   "metadata": {},
   "outputs": [],
   "source": [
    "# Test over test loader\n",
    "correct1 = 0\n",
    "correct2 = 0\n",
    "for X, y in test_loader:                                                                                                                                                                                                                                                                                                                                                                                                                                                                                                                                                                                                                                                                                                                                                                                                                                                                                                                                                                                                                                                                             \n",
    "    X, y = X.to(device), torch.exp(y.to(device))-4  # Return to original Psi\n",
    "    S, angle = S_overlap(y, y)  # Accuracy by equation (11) Main Article       \n",
    "    correct1 += S\n",
    "    correct2 += angle\n",
    "correct1 /= len(test_loader)\n",
    "correct2 /= len(test_loader)\n",
    "print(f\"Test Error: \\n Accuracy: {(100*correct1):>0.1f}%\\n\")  # Should be 100% because y=y => main of |S| = 1\n",
    "#print(\"S\", correct1)\n",
    "#print(\"angle\", correct2)"
   ]
  },
  {
   "cell_type": "code",
   "execution_count": 21,
   "id": "94dd93d0",
   "metadata": {},
   "outputs": [],
   "source": [
    "writer = SummaryWriter(comment=\"2LSTM_1024neu_seq200_BATCH_10_LR_1E-4_8000DATA\")  # To use tensorboard"
   ]
  },
  {
   "cell_type": "code",
   "execution_count": null,
   "id": "ccac99ad",
   "metadata": {},
   "outputs": [],
   "source": [
    "for X,y in train_loader:\n",
    "    writer.add_graph(model,X)  # to draw diagram model\n",
    "    break"
   ]
  },
  {
   "cell_type": "markdown",
   "id": "9d4501d2",
   "metadata": {},
   "source": [
    "## Train & Test loop definition"
   ]
  },
  {
   "cell_type": "code",
   "execution_count": 22,
   "id": "37c0e2f3",
   "metadata": {},
   "outputs": [],
   "source": [
    "def train(dataloader, model, loss_fn, optimizer):\n",
    "    size = len(dataloader)#len(dataloader.dataset)\n",
    "    model.train()\n",
    "    for batch, (X, y) in enumerate(dataloader):\n",
    "        X, y = X.to(device), y.squeeze().to(device)\n",
    "\n",
    "        # Compute prediction error\n",
    "        pred = model(X.float()).squeeze()\n",
    "        loss = loss_fn(pred, y.float())\n",
    "        \n",
    "        # Backpropagation\n",
    "        optimizer.zero_grad()\n",
    "        loss.backward()\n",
    "        optimizer.step()\n",
    "\n",
    "        if batch % 100 == 0:\n",
    "            loss, current = loss.item(), batch\n",
    "            print(f\"loss: {loss:>7f}  [{current:>5d}/{size:>5d}]\")\n",
    "    \n",
    "    writer.add_scalar(\"Loss/train\", loss.item(), epoch)\n"
   ]
  },
  {
   "cell_type": "code",
   "execution_count": 23,
   "id": "f25084d5",
   "metadata": {},
   "outputs": [],
   "source": [
    "def test(dataloader, model, loss_fn):\n",
    "    size = len(dataloader.dataset)\n",
    "    num_batches = len(dataloader)\n",
    "    model.eval()\n",
    "    test_loss, correctS, correct_phase = 0, 0, 0\n",
    "    \n",
    "    with torch.no_grad():\n",
    "        for X, y in dataloader:                                                                                                                                                                                                                                                                                                                                                                                                                                                                                                                                                                                                                                                                                                                                                                                                                                                                                                                                                                                                                                                                             \n",
    "            X, y = X.to(device), torch.exp(y.to(device))-4\n",
    "            pred = torch.exp(model(X.float()))-4\n",
    "            test_loss += loss_fn(pred, y).item()\n",
    "            S, angle = S_overlap(y, pred)  \n",
    "            correctS += S\n",
    "            correct_phase += angle\n",
    "    \n",
    "    correctS /= num_batches\n",
    "    correct_phase /= num_batches\n",
    "    test_loss /= num_batches\n",
    "    \n",
    "    writer.add_scalar('Accuracy Magnitude |S| /test', 100*correctS, epoch)  # Should be 100%\n",
    "    writer.add_scalar('Accuracy phase /test', correct_phase, epoch)  # Should be 0\n",
    "    writer.add_scalar(\"Loss/validation\", test_loss, epoch)\n",
    "\n",
    "    \n",
    "\n",
    "    print(f\"Test Error: \\n Accuracy Magnitude |S|: {(100*correctS):>0.1f}%\")\n",
    "    print(f\"Test Error: \\n Accuracy phase: {(correct_phase):>0.1f}\\n\")"
   ]
  },
  {
   "cell_type": "markdown",
   "id": "23eebf1e",
   "metadata": {},
   "source": [
    "## Training"
   ]
  },
  {
   "cell_type": "code",
   "execution_count": 24,
   "id": "f5f4171a",
   "metadata": {},
   "outputs": [
    {
     "name": "stdout",
     "output_type": "stream",
     "text": [
      "Epoch 1\n",
      "-------------------------------\n",
      "loss: 1.920535  [    0/  560]\n",
      "loss: 0.018692  [  100/  560]\n",
      "loss: 0.014764  [  200/  560]\n",
      "loss: 0.011175  [  300/  560]\n",
      "loss: 0.008750  [  400/  560]\n",
      "loss: 0.006828  [  500/  560]\n",
      "Test Error: \n",
      " Accuracy Magnitude |S|: 3.9%\n",
      "Test Error: \n",
      " Accuracy phase: -0.0\n",
      "\n",
      "Epoch 2\n",
      "-------------------------------\n",
      "loss: 0.006186  [    0/  560]\n",
      "loss: 0.005606  [  100/  560]\n",
      "loss: 0.005469  [  200/  560]\n",
      "loss: 0.005418  [  300/  560]\n",
      "loss: 0.005329  [  400/  560]\n",
      "loss: 0.005461  [  500/  560]\n",
      "Test Error: \n",
      " Accuracy Magnitude |S|: 4.7%\n",
      "Test Error: \n",
      " Accuracy phase: 0.0\n",
      "\n",
      "Epoch 3\n",
      "-------------------------------\n",
      "loss: 0.005450  [    0/  560]\n",
      "loss: 0.005479  [  100/  560]\n",
      "loss: 0.005399  [  200/  560]\n",
      "loss: 0.005309  [  300/  560]\n",
      "loss: 0.005395  [  400/  560]\n",
      "loss: 0.005170  [  500/  560]\n",
      "Test Error: \n",
      " Accuracy Magnitude |S|: 6.6%\n",
      "Test Error: \n",
      " Accuracy phase: 0.0\n",
      "\n",
      "Epoch 4\n",
      "-------------------------------\n",
      "loss: 0.005218  [    0/  560]\n",
      "loss: 0.005084  [  100/  560]\n",
      "loss: 0.005204  [  200/  560]\n",
      "loss: 0.004921  [  300/  560]\n",
      "loss: 0.005010  [  400/  560]\n",
      "loss: 0.005247  [  500/  560]\n",
      "Test Error: \n",
      " Accuracy Magnitude |S|: 9.4%\n",
      "Test Error: \n",
      " Accuracy phase: -0.0\n",
      "\n",
      "Epoch 5\n",
      "-------------------------------\n",
      "loss: 0.005022  [    0/  560]\n",
      "loss: 0.005197  [  100/  560]\n",
      "loss: 0.005405  [  200/  560]\n",
      "loss: 0.005338  [  300/  560]\n",
      "loss: 0.004707  [  400/  560]\n",
      "loss: 0.004545  [  500/  560]\n",
      "Test Error: \n",
      " Accuracy Magnitude |S|: 12.9%\n",
      "Test Error: \n",
      " Accuracy phase: -0.0\n",
      "\n",
      "Epoch 6\n",
      "-------------------------------\n",
      "loss: 0.004955  [    0/  560]\n",
      "loss: 0.004913  [  100/  560]\n",
      "loss: 0.005196  [  200/  560]\n",
      "loss: 0.005086  [  300/  560]\n",
      "loss: 0.004914  [  400/  560]\n",
      "loss: 0.005072  [  500/  560]\n",
      "Test Error: \n",
      " Accuracy Magnitude |S|: 16.1%\n",
      "Test Error: \n",
      " Accuracy phase: -0.0\n",
      "\n",
      "Epoch 7\n",
      "-------------------------------\n",
      "loss: 0.004734  [    0/  560]\n",
      "loss: 0.004349  [  100/  560]\n",
      "loss: 0.005019  [  200/  560]\n",
      "loss: 0.004494  [  300/  560]\n",
      "loss: 0.004711  [  400/  560]\n",
      "loss: 0.004784  [  500/  560]\n",
      "Test Error: \n",
      " Accuracy Magnitude |S|: 17.2%\n",
      "Test Error: \n",
      " Accuracy phase: -0.0\n",
      "\n",
      "Epoch 8\n",
      "-------------------------------\n",
      "loss: 0.004784  [    0/  560]\n",
      "loss: 0.004712  [  100/  560]\n",
      "loss: 0.004004  [  200/  560]\n",
      "loss: 0.004728  [  300/  560]\n",
      "loss: 0.004714  [  400/  560]\n",
      "loss: 0.004040  [  500/  560]\n",
      "Test Error: \n",
      " Accuracy Magnitude |S|: 22.3%\n",
      "Test Error: \n",
      " Accuracy phase: -0.0\n",
      "\n",
      "Epoch 9\n",
      "-------------------------------\n",
      "loss: 0.004603  [    0/  560]\n",
      "loss: 0.004545  [  100/  560]\n",
      "loss: 0.004287  [  200/  560]\n",
      "loss: 0.004067  [  300/  560]\n",
      "loss: 0.004584  [  400/  560]\n",
      "loss: 0.004748  [  500/  560]\n",
      "Test Error: \n",
      " Accuracy Magnitude |S|: 24.5%\n",
      "Test Error: \n",
      " Accuracy phase: -0.0\n",
      "\n",
      "Epoch 10\n",
      "-------------------------------\n",
      "loss: 0.003924  [    0/  560]\n",
      "loss: 0.004279  [  100/  560]\n",
      "loss: 0.004450  [  200/  560]\n",
      "loss: 0.004730  [  300/  560]\n",
      "loss: 0.004150  [  400/  560]\n",
      "loss: 0.003865  [  500/  560]\n",
      "Test Error: \n",
      " Accuracy Magnitude |S|: 26.0%\n",
      "Test Error: \n",
      " Accuracy phase: -0.0\n",
      "\n"
     ]
    }
   ],
   "source": [
    "epochs = 10\n",
    "for epoch in range(0,epochs):\n",
    "    print(f\"Epoch {epoch+1}\\n-------------------------------\")\n",
    "    train(train_loader, model, criterion, optimizer)\n",
    "    test(val_loader, model, criterion)\n",
    "    \n",
    "writer.flush()"
   ]
  },
  {
   "cell_type": "code",
   "execution_count": 26,
   "id": "9d87c90f",
   "metadata": {},
   "outputs": [],
   "source": [
    "torch.save(model, './8000Data_LSTM_MODEL3/31-07-23_10EPOCHS.pth')"
   ]
  },
  {
   "cell_type": "code",
   "execution_count": null,
   "id": "c9151ad0",
   "metadata": {},
   "outputs": [],
   "source": [
    "#model = torch.load('./4700Data_LSTM_MODEL3/21-06-23_90EPOCHS.pth')"
   ]
  },
  {
   "cell_type": "code",
   "execution_count": null,
   "id": "973de875",
   "metadata": {},
   "outputs": [],
   "source": [
    "# In the current directory:\n",
    "# tensorboard --logdir=runs"
   ]
  },
  {
   "cell_type": "markdown",
   "id": "46d58e7d",
   "metadata": {},
   "source": [
    "## Accuracy Test New Data"
   ]
  },
  {
   "cell_type": "code",
   "execution_count": null,
   "id": "827e4e56",
   "metadata": {},
   "outputs": [],
   "source": [
    "def test1(dataloader, model, loss_fn):\n",
    "    '''\n",
    "    Same as test function but without writer to tensorboard\n",
    "    '''\n",
    "    size = len(dataloader.dataset)\n",
    "    num_batches = len(dataloader)\n",
    "    model.eval()\n",
    "    test_loss, correctS, correct_phase = 0, 0, 0\n",
    "    \n",
    "    with torch.no_grad():\n",
    "        for X, y in dataloader:                                                                                                                                                                                                                                                                                                                                                                                                                                                                                                                                                                                                                                                                                                                                                                                                                                                                                                                                                                                                                                                                             \n",
    "            X, y = X.to(device), torch.exp(y.to(device))-4\n",
    "            pred = torch.exp(model(X.float()))-4\n",
    "            test_loss += loss_fn(pred, y).item()\n",
    "            S, angle = S_overlap(y,pred)  \n",
    "            correctS += S\n",
    "            correct_phase += angle\n",
    "    \n",
    "    correctS /= num_batches\n",
    "    correct_phase /= num_batches\n",
    "\n",
    "    print(f\"Test Error: \\n Accuracy Magnitude |S|: {(100*correctS):>0.1f}%\")\n",
    "    print(f\"Test Error: \\n Accuracy phase: {(correct_phase):>0.1f}\\n\")"
   ]
  },
  {
   "cell_type": "code",
   "execution_count": null,
   "id": "44e21259",
   "metadata": {},
   "outputs": [],
   "source": [
    "test1(test_loader, model, criterion)"
   ]
  },
  {
   "cell_type": "markdown",
   "id": "6c20d6c9",
   "metadata": {},
   "source": [
    "|Model Name: 17-05-23_90EPOCHS.pth|\n",
    "|--- |\n",
    "\n",
    "|Epoch | Accuracy Magnitude | Accuracy phase |\n",
    "| --- | --- | --- |\n",
    "|90 | 88.0%| 0.0147 |"
   ]
  },
  {
   "cell_type": "markdown",
   "id": "dfc71434",
   "metadata": {},
   "source": [
    "## Predictions wavepackets"
   ]
  },
  {
   "cell_type": "code",
   "execution_count": null,
   "id": "5a26e491",
   "metadata": {},
   "outputs": [],
   "source": [
    "for X,y in test_loader:\n",
    "    X, y = X.to(device), y.to(device)\n",
    "    \n",
    "    Entrada = X\n",
    "    \n",
    "    Salida = torch.exp(y)-4\n",
    "    with torch.inference_mode():\n",
    "        Prediccion = torch.exp(model(X.float()))-4\n",
    "    break"
   ]
  },
  {
   "cell_type": "code",
   "execution_count": null,
   "id": "91296a9e",
   "metadata": {},
   "outputs": [],
   "source": [
    "print(Entrada.shape)\n",
    "print(Prediccion.shape)\n",
    "print(Salida.shape)"
   ]
  },
  {
   "cell_type": "code",
   "execution_count": null,
   "id": "9b71b18f",
   "metadata": {},
   "outputs": [],
   "source": [
    "r_n = np.linspace(-1.5,1.5,32)\n",
    "\n",
    "time = int(15)\n",
    "\n",
    "In_real_vis = Entrada[2,time,0:32].detach().numpy()\n",
    "In_imag_vis = Entrada[2,time,32:64].detach().numpy()\n",
    "Pote = Entrada[2,time,64:96].detach().numpy()\n",
    "\n",
    "Ou_real_vis = Salida[2,time,0:32].detach().numpy()\n",
    "Ou_imag_vis = Salida[2,time,32:64].detach().numpy()\n",
    "Pote_next = Entrada[2,time+1,64:96].detach().numpy()\n",
    "\n",
    "Pred_real_vis = Prediccion[2,time,0:32].detach().numpy()\n",
    "Pred_imag_vis = Prediccion[2,time,32:64].detach().numpy()"
   ]
  },
  {
   "cell_type": "code",
   "execution_count": null,
   "id": "000d4f4e",
   "metadata": {},
   "outputs": [],
   "source": [
    "fig, axs = plt.subplots(2,2)\n",
    "\n",
    "# Lenght: au -> Angstroms\n",
    "#axs[0,0].plot(r_n, Pote*(1/1.5936e-3), \"-\", label=\"$V(r,t)$\", color=\"C4\")\n",
    "axs[0,0].plot(r_n, In_real_vis*20, label=\"$\\psi_{r}(r, t)$\", color=\"C0\")  # Escaled\n",
    "\n",
    "\n",
    "#axs[0,1].plot(r_n, Pote*(1/1.5936e-3), \"-\", label=\"$V(r,t)$\", color=\"C4\")\n",
    "axs[0,1].plot(r_n, In_imag_vis*20, label=\"$\\psi_{i}(r, t)$\", color = \"C2\")  # Escaled\n",
    "\n",
    "#axs[0].plot(r_n, Pote_next*(1/1.5936e-3), \"-\", label=\"V(r,t)\", color=color[3])\n",
    "axs[1,0].plot(r_n, Ou_real_vis*20, label=\"$\\psi_{r}(r, t+1)_{True}$\", color=\"C0\")  # Escaled\n",
    "axs[1,0].scatter(r_n, Pred_real_vis*20, label=\"$\\psi_{r}(r, t+1)_{LSTM}$\", color=\"C1\", marker='.')  # Escaled\n",
    " \n",
    "\n",
    "axs[1,1].plot(r_n, Ou_imag_vis*20, label=\"$\\psi_{i}(r, t+1)_{True}$\", color = \"C2\")  # Escaled\n",
    "axs[1,1].scatter(r_n, Pred_imag_vis*20, label=\"$\\psi_{i}(r, t+1)_{LSTM}$\", color = \"C1\", marker='.')  # Escaled\n",
    "\n",
    "for axr1 in axs:\n",
    "    for axr11 in axr1:\n",
    "        #axr11.set_ylim([-20, 60])\n",
    "        axr11.legend()\n",
    "        axr11.set(xlabel='Position [$\\AA$]')#, ylabel='Energy [Kcal/mol]')\n",
    "# Hide x labels and tick labels for top plots and y ticks for right plots.\n",
    "for ax in axs.flat:\n",
    "    ax.label_outer()\n",
    "    \n",
    " \n",
    "\n",
    "#plt.gcf().set_size_inches(9, 5)\n",
    "plt.legend()    \n",
    "plt.show()\n",
    "#plt.savefig('/home/jessica/Tesis/Poster/img/Pred1step.png', dpi=700)"
   ]
  },
  {
   "cell_type": "markdown",
   "id": "75ba7acd",
   "metadata": {},
   "source": [
    "## Predictions density"
   ]
  },
  {
   "cell_type": "code",
   "execution_count": null,
   "id": "06aa726d",
   "metadata": {},
   "outputs": [],
   "source": [
    "#------------- t=0\n",
    "In_real_vis0 = Entrada[2,0,0:32].detach().numpy()\n",
    "In_imag_vis0 = Entrada[2,0,32:64].detach().numpy()\n",
    "In_dens0 = (np.abs(np.vectorize(complex)(In_real_vis0,In_imag_vis0)))**2\n",
    "\n",
    "Pote0 = Entrada[2,0,64:96].detach().numpy()\n",
    "\n",
    "\n",
    "#------------ t=40 fs\n",
    "Ou_real_vis0 = Salida[2,40,0:32].detach().numpy()\n",
    "Ou_imag_vis0 = Salida[2,40,32:64].detach().numpy()\n",
    "Ou_dens0 = (np.abs(np.vectorize(complex)(Ou_real_vis0,Ou_imag_vis0)))**2\n",
    "      \n",
    "Pred_real_vis0 = Prediccion[2,40,0:32].detach().numpy()\n",
    "Pred_imag_vis0 = Prediccion[2,40,32:64].detach().numpy()\n",
    "Pred_dens0 = (np.abs(np.vectorize(complex)(Pred_real_vis0,Pred_imag_vis0)))**2\n",
    "\n",
    "#-------------- t=80 fs\n",
    "In_real_vis1 = Entrada[2,80,0:32].detach().numpy()\n",
    "In_imag_vis1 = Entrada[2,80,32:64].detach().numpy()\n",
    "Pote1 = Entrada[2,80,64:96].detach().numpy()\n",
    "\n",
    "Ou_real_vis1 = Salida[2,80,0:32].detach().numpy()\n",
    "Ou_imag_vis1 = Salida[2,80,32:64].detach().numpy()\n",
    "Ou_dens1 = (np.abs(np.vectorize(complex)(Ou_real_vis1,Ou_imag_vis1)))**2\n",
    "\n",
    "Pred_real_vis1 = Prediccion[2,80,0:32].detach().numpy()\n",
    "Pred_imag_vis1 = Prediccion[2,80,32:64].detach().numpy()\n",
    "Pred_dens1 = (np.abs(np.vectorize(complex)(Pred_real_vis1,Pred_imag_vis1)))**2\n",
    "\n",
    "#-------------- t=120 fs\n",
    "In_real_vis2 = Entrada[2,120,0:32].detach().numpy()\n",
    "In_imag_vis2 = Entrada[2,120,32:64].detach().numpy()\n",
    "Pote2 = Entrada[2,120,64:96].detach().numpy()\n",
    "\n",
    "Ou_real_vis2 = Salida[2,120,0:32].detach().numpy()\n",
    "Ou_imag_vis2 = Salida[2,120,32:64].detach().numpy()\n",
    "Ou_dens2 = (np.abs(np.vectorize(complex)(Ou_real_vis2,Ou_imag_vis2)))**2\n",
    "\n",
    "Pred_real_vis2 = Prediccion[2,120,0:32].detach().numpy()\n",
    "Pred_imag_vis2 = Prediccion[2,120,32:64].detach().numpy()\n",
    "Pred_dens2 = (np.abs(np.vectorize(complex)(Pred_real_vis2,Pred_imag_vis2)))**2\n",
    "\n",
    "#-------------- t=160 fs\n",
    "In_real_vis3 = Entrada[2,160,0:32].detach().numpy()\n",
    "In_imag_vis3 = Entrada[2,160,32:64].detach().numpy()\n",
    "Pote3 = Entrada[2,160,64:96].detach().numpy()\n",
    "\n",
    "Ou_real_vis3 = Salida[2,160,0:32].detach().numpy()\n",
    "Ou_imag_vis3 = Salida[2,160,32:64].detach().numpy()\n",
    "Ou_dens3 = (np.abs(np.vectorize(complex)(Ou_real_vis3,Ou_imag_vis3)))**2\n",
    "\n",
    "Pred_real_vis3 = Prediccion[2,160,0:32].detach().numpy()\n",
    "Pred_imag_vis3 = Prediccion[2,160,32:64].detach().numpy()\n",
    "Pred_dens3 = (np.abs(np.vectorize(complex)(Pred_real_vis3,Pred_imag_vis3)))**2\n",
    "\n",
    "#-------------- t=200 fs\n",
    "In_real_vis4 = Entrada[2,199,0:32].detach().numpy()\n",
    "In_imag_vis4 = Entrada[2,199,32:64].detach().numpy()\n",
    "Pote4 = Entrada[2,199,64:96].detach().numpy()\n",
    "\n",
    "Ou_real_vis4 = Salida[2,199,0:32].detach().numpy()\n",
    "Ou_imag_vis4 = Salida[2,199,32:64].detach().numpy()\n",
    "Ou_dens4 = (np.abs(np.vectorize(complex)(Ou_real_vis4,Ou_imag_vis4)))**2\n",
    "\n",
    "Pred_real_vis4 = Prediccion[2,199,0:32].detach().numpy()\n",
    "Pred_imag_vis4 = Prediccion[2,199,32:64].detach().numpy()\n",
    "Pred_dens4 = (np.abs(np.vectorize(complex)(Pred_real_vis4,Pred_imag_vis4)))**2\n",
    "\n"
   ]
  },
  {
   "cell_type": "code",
   "execution_count": null,
   "id": "73757fc2",
   "metadata": {},
   "outputs": [],
   "source": [
    "fig, ax = plt.subplots(2,3)\n",
    "\n",
    "    \n",
    "# Time: fs -> au, Lenght: au -> Angstroms, Energy: au -> kcal/mol\n",
    "ax[0,0].plot(r_n, Pote0*(1/1.5936e-3), \"-\", label=\"$V(r,t)$\", color=\"C4\")\n",
    "ax[0,0].plot(r_n, In_dens0*10, label=\"$|\\psi_{initial}|^{2}$\")\n",
    "ax[0,0].set_title(\"$t=0 fs$\")\n",
    "\n",
    "\n",
    "\n",
    "ax[0,1].plot(r_n, Pote0*(1/1.5936e-3), \"-\", label=\"$V(r,t)$\", color=\"C4\")\n",
    "ax[0,1].scatter(r_n, Pred_dens0*10, label=\"$|\\psi_{LSTM}|^{2}$\", color=\"C1\", marker='.')\n",
    "ax[0,1].plot(r_n, Ou_dens0*10, label=\"$|\\psi_{True}|^{2}$\")\n",
    "ax[0,1].set_title(\"$t=40 fs$\")\n",
    "\n",
    "ax[0,2].plot(r_n, Pote1*(1/1.5936e-3), \"-\", label=\"$V(r, t)$\", color=\"C4\")\n",
    "ax[0,2].scatter(r_n, Pred_dens1*10, label=\"$|\\psi_{LSTM}|^{2}$\", color=\"C1\", marker='.')\n",
    "ax[0,2].plot(r_n, Ou_dens1*10, label=\"$|\\psi_{True}|^{2}$\")\n",
    "ax[0,2].set_title(\"$t=80 fs$\")\n",
    "\n",
    "ax[1,0].plot(r_n, Pote2*(1/1.5936e-3), \"-\", label=\"$V(r, t)$\", color=\"C4\")\n",
    "ax[1,0].scatter(r_n, Pred_dens2*(10), label=\"$|\\psi_{LSTM}|^{2}$\", color=\"C1\", marker='.')\n",
    "ax[1,0].plot(r_n, Ou_dens2*10, label=\"$|\\psi_{True}|^{2}$\")\n",
    "ax[1,0].set_title(\"$t=120 fs$\")\n",
    "\n",
    "ax[1,1].plot(r_n, Pote3*(1/1.5936e-3), \"-\", label=\"$V(r,t)$\", color=\"C4\")\n",
    "ax[1,1].scatter(r_n, Pred_dens3*(10), label=\"$|\\psi_{LSTM}|^{2}$\", color=\"C1\", marker='.')\n",
    "ax[1,1].plot(r_n, Ou_dens3*10, label=\"$|\\psi_{True}|^{2}$\")\n",
    "ax[1,1].set_title(\"$t=160 fs$\")\n",
    "\n",
    "ax[1,2].plot(r_n, Pote4*(1/1.5936e-3), \"-\", label=\"$V(r,t)$\", color=\"C4\")\n",
    "ax[1,2].scatter(r_n, Pred_dens4*(10), label=\"$|\\psi_{LSTM}|^{2}$\", color=\"C1\", marker='.')\n",
    "ax[1,2].plot(r_n, Ou_dens4*10, label=\"$|\\psi_{True}|^{2}$\")\n",
    "ax[1,2].set_title(\"$t=200 fs$\")\n",
    "\n",
    "\n",
    "\n",
    "\n",
    "\n",
    "\n",
    "\n",
    "for axr1 in ax:\n",
    "    for axr11 in axr1:\n",
    "        axr11.set_ylim([-5, 50])\n",
    "        #axr11.legend()\n",
    "        axr11.set(xlabel='Position [$\\AA$]', ylabel='$|\\psi(r,t)|$')\n",
    "        \n",
    "# Hide x labels and tick labels for top plots and y ticks for right plots.\n",
    "for ax in ax.flat:\n",
    "    ax.label_outer()\n",
    "    \n",
    "    \n",
    "plt.gcf().set_size_inches(10, 6)\n",
    "#plt.legend()    \n",
    "plt.show()\n",
    "plt.savefig('/home/jessica/Tesis/Poster/img/Preddens.png', dpi=700)"
   ]
  },
  {
   "cell_type": "markdown",
   "id": "c8001ef1",
   "metadata": {},
   "source": [
    "### Saving data to animation"
   ]
  },
  {
   "cell_type": "code",
   "execution_count": null,
   "id": "fafed874",
   "metadata": {},
   "outputs": [],
   "source": [
    "Entrada[:,:,64:96].shape"
   ]
  },
  {
   "cell_type": "code",
   "execution_count": null,
   "id": "86edd980",
   "metadata": {},
   "outputs": [],
   "source": [
    "newPred = Prediccion.numpy()  # By model real & imag part\n",
    "newSal = Salida.numpy()  # Analitical real & imag part\n",
    "Poten = Entrada[:,:,64:96].numpy()  # Potential"
   ]
  },
  {
   "cell_type": "code",
   "execution_count": null,
   "id": "a676d7eb",
   "metadata": {},
   "outputs": [],
   "source": [
    "with open(os.path.join('../Animacion/ModelLSTM/prediccion.npy'), 'wb') as f:\n",
    "    np.save(f, newPred)"
   ]
  },
  {
   "cell_type": "code",
   "execution_count": null,
   "id": "15be5fa8",
   "metadata": {},
   "outputs": [],
   "source": [
    "with open(os.path.join('../Animacion/ModelLSTM/salida.npy'), 'wb') as f:\n",
    "    np.save(f, newSal)"
   ]
  },
  {
   "cell_type": "code",
   "execution_count": null,
   "id": "f0bcba42",
   "metadata": {},
   "outputs": [],
   "source": [
    "with open(os.path.join('../Animacion/ModelLSTM/potencial.npy'), 'wb') as f:\n",
    "    np.save(f, Poten)"
   ]
  },
  {
   "cell_type": "markdown",
   "id": "e82e2526",
   "metadata": {},
   "source": [
    "## New trajectory"
   ]
  },
  {
   "cell_type": "markdown",
   "id": "b7a34d2d",
   "metadata": {},
   "source": [
    "Para asegurar que la red funciona xd"
   ]
  },
  {
   "cell_type": "code",
   "execution_count": null,
   "id": "e5b04fdb",
   "metadata": {},
   "outputs": [],
   "source": [
    "path_test = '../../NewTrajectories/data'  # Directory where are a total new trajectory\n",
    "seq_len = 200  # How many time stamps"
   ]
  },
  {
   "cell_type": "code",
   "execution_count": null,
   "id": "e1c70e5f",
   "metadata": {},
   "outputs": [],
   "source": [
    "dataset_newTest = Propagator_Dataset(data=path_test, targets=path_test, transform=True, sequence_len=seq_len, total_data = 1*200)"
   ]
  },
  {
   "cell_type": "code",
   "execution_count": null,
   "id": "33257888",
   "metadata": {},
   "outputs": [],
   "source": [
    "newTraj = DataLoader(dataset_newTest)"
   ]
  },
  {
   "cell_type": "code",
   "execution_count": null,
   "id": "c8fc0643",
   "metadata": {},
   "outputs": [],
   "source": [
    "for X,y in newTraj:\n",
    "    X, y = X.to(device), y.to(device)\n",
    "    \n",
    "    Entrada = X\n",
    "    \n",
    "    Salida = y\n",
    "    with torch.inference_mode():\n",
    "        Prediccion = model(X.float())\n",
    "    break"
   ]
  },
  {
   "cell_type": "code",
   "execution_count": null,
   "id": "f1bc1663",
   "metadata": {},
   "outputs": [],
   "source": [
    "print(Entrada.shape)\n",
    "print(Prediccion.shape)\n",
    "print(Salida.shape)"
   ]
  },
  {
   "cell_type": "code",
   "execution_count": null,
   "id": "af4951f2",
   "metadata": {},
   "outputs": [],
   "source": [
    "r_n = np.linspace(-1.5,1.5,32)\n",
    "\n",
    "time = int(160)  # from 0 to 199 fs\n",
    "\n",
    "In_real_vis = Entrada[0,time,0:32].detach().numpy()\n",
    "In_imag_vis = Entrada[0,time,32:64].detach().numpy()\n",
    "Pote = Entrada[0,time,64:96].detach().numpy()\n",
    "\n",
    "Ou_real_vis = Salida[0,time,0:32].detach().numpy()\n",
    "Ou_imag_vis = Salida[0,time,32:64].detach().numpy()\n",
    "Pote_next = Entrada[0,time+1,64:96].detach().numpy()\n",
    "\n",
    "Pred_real_vis = Prediccion[0,time,0:32].detach().numpy()\n",
    "Pred_imag_vis = Prediccion[0,time,32:64].detach().numpy()"
   ]
  },
  {
   "cell_type": "code",
   "execution_count": null,
   "id": "94e628b2",
   "metadata": {},
   "outputs": [],
   "source": [
    "fig, axs = plt.subplots(2,2)\n",
    "\n",
    "# Lenght: au -> Angstroms\n",
    "axs[0,0].plot(r_n, Pote*(1/1.5936e-3), \"-\", label=\"V(r,t)\", color=color[3])\n",
    "axs[0,0].plot(r_n, In_real_vis*20, label=\"$\\psi_{r}(r, t)$\", color=color[0])  # Escaled\n",
    "\n",
    "\n",
    "axs[0,1].plot(r_n, Pote*(1/1.5936e-3), \"-\", label=\"V(r,t)\", color=color[3])\n",
    "axs[0,1].plot(r_n, In_imag_vis*20, label=\"$\\psi_{i}(r, t)$\", color = color[1])  # Escaled\n",
    "\n",
    "#axs[0].plot(r_n, Pote_next*(1/1.5936e-3), \"-\", label=\"V(r,t)\", color=color[3])\n",
    "axs[1,0].plot(r_n, Ou_real_vis*20, label=\"$\\psi_{r}(r, t+1)_{True}$\", color=color[0])  # Escaled\n",
    "axs[1,0].scatter(r_n, Pred_real_vis*20, label=\"$\\psi_{r}(r, t+1)_{LSTM}$\", color=color[4], marker='.')  # Escaled\n",
    "\n",
    "\n",
    "axs[1,1].plot(r_n, Ou_imag_vis*20, label=\"$\\psi_{i}(r, t+1)_{True}$\", color = color[1])  # Escaled\n",
    "axs[1,1].scatter(r_n, Pred_imag_vis*20, label=\"$\\psi_{i}(r, t+1)_{LSTM}$\", color = color[4], marker='.')  # Escaled\n",
    "\n",
    "for axr1 in axs:\n",
    "    for axr11 in axr1:\n",
    "        axr11.set_ylim([-20, 60])\n",
    "        axr11.legend()\n",
    "        axr11.set(xlabel='Position [$\\AA$]', ylabel='Energy [Kcal/mol]')\n",
    "# Hide x labels and tick labels for top plots and y ticks for right plots.\n",
    "for ax in axs.flat:\n",
    "    ax.label_outer()\n",
    "    \n",
    "plt.gcf().set_size_inches(9, 5)\n",
    "plt.legend()    \n",
    "plt.show()"
   ]
  },
  {
   "cell_type": "markdown",
   "id": "2a73d7cc",
   "metadata": {},
   "source": [
    "yes it works"
   ]
  }
 ],
 "metadata": {
  "kernelspec": {
   "display_name": "Python 3 (ipykernel)",
   "language": "python",
   "name": "python3"
  },
  "language_info": {
   "codemirror_mode": {
    "name": "ipython",
    "version": 3
   },
   "file_extension": ".py",
   "mimetype": "text/x-python",
   "name": "python",
   "nbconvert_exporter": "python",
   "pygments_lexer": "ipython3",
   "version": "3.9.7"
  }
 },
 "nbformat": 4,
 "nbformat_minor": 5
}
