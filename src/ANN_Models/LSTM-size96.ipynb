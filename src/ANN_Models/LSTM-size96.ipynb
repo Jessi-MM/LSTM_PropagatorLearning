{
 "cells": [
  {
   "cell_type": "code",
   "execution_count": 1,
   "id": "56b062ea",
   "metadata": {},
   "outputs": [],
   "source": [
    "import torch\n",
    "from torch import nn\n",
    "from torch.autograd import Variable\n",
    "from torch.utils.data import DataLoader\n",
    "from torchvision import datasets\n",
    "from torchvision.transforms import ToTensor\n",
    "from torch.utils.data.sampler import SubsetRandomSampler\n",
    "from torch.utils.data.sampler import SequentialSampler\n",
    "from torch.utils.data import Dataset\n",
    "import numpy as np\n",
    "from matplotlib import pyplot as plt\n",
    "from scipy import integrate\n",
    "\n",
    "import matplotlib.colors as mcolors\n",
    "from matplotlib import rcParams\n",
    "\n",
    "import os\n",
    "#-----\n",
    "from torch.utils.tensorboard import SummaryWriter"
   ]
  },
  {
   "cell_type": "markdown",
   "id": "8f5ce02b",
   "metadata": {},
   "source": [
    "# Split data on grid"
   ]
  },
  {
   "cell_type": "code",
   "execution_count": 23,
   "id": "a8ced21a",
   "metadata": {},
   "outputs": [],
   "source": [
    "path = '../../Data_Gaussian_96size/data0'  # Directory where are saving our data"
   ]
  },
  {
   "cell_type": "code",
   "execution_count": 24,
   "id": "60cc3a1a",
   "metadata": {},
   "outputs": [],
   "source": [
    "def split_data(path):\n",
    "    waveA = np.empty((200,32), dtype=np.complex_)\n",
    "    waveB = np.empty((200,32), dtype=np.complex_)\n",
    "    waveC = np.empty((200,32), dtype=np.complex_)\n",
    "\n",
    "    potA = np.empty((200,32), np.float32)\n",
    "    potB = np.empty((200,32), np.float32)\n",
    "    potC = np.empty((200,32), np.float32)\n",
    "    \n",
    "    os.makedirs('./'+path+'A/Wavepacket')\n",
    "    os.makedirs('./'+path+'A/Potential')\n",
    "    \n",
    "    os.makedirs('./'+path+'B/Wavepacket')\n",
    "    os.makedirs('./'+path+'B/Potential')\n",
    "    \n",
    "    os.makedirs('./'+path+'C/Wavepacket')\n",
    "    os.makedirs('./'+path+'C/Potential')\n",
    "    \n",
    "    for t in range(200):\n",
    "    \n",
    "        wave = np.load(path+'/Wavepacket/'+str(t)+'-wave.npy')\n",
    "        pot = np.load(path+'/Potential/'+str(t)+'-potential.npy')\n",
    "    \n",
    "        for i in range(32):\n",
    "        \n",
    "            waveA[t][i] = wave[i*3]\n",
    "            potA[t][i] = pot[i*3]\n",
    "        \n",
    "            waveB[t][i] = wave[i*3+1]\n",
    "            potB[t][i] = pot[i*3+1]\n",
    "        \n",
    "            waveC[t][i] = wave[i*3+2]\n",
    "            potC[t][i] = pot[i*3+2]\n",
    "                    \n",
    "        with open(os.path.join('./'+path+'A/Wavepacket', str(t)+'-wave.npy'), 'wb') as f:\n",
    "                    np.save(f, waveA[t])\n",
    "        with open(os.path.join('./'+path+'A/Potential', str(t)+'-potential.npy'), 'wb') as f:\n",
    "                    np.save(f, potA[t])\n",
    "                \n",
    "        with open(os.path.join('./'+path+'B/Wavepacket', str(t)+'-wave.npy'), 'wb') as f:\n",
    "                    np.save(f, waveB[t])\n",
    "        with open(os.path.join('./'+path+'B/Potential', str(t)+'-potential.npy'), 'wb') as f:\n",
    "                    np.save(f, potB[t])\n",
    "                \n",
    "        with open(os.path.join('./'+path+'C/Wavepacket', str(t)+'-wave.npy'), 'wb') as f:\n",
    "                    np.save(f, waveC[t])\n",
    "        with open(os.path.join('./'+path+'C/Potential', str(t)+'-potential.npy'), 'wb') as f:\n",
    "                    np.save(f, potC[t])\n",
    "        \n",
    "    return\n",
    "    "
   ]
  },
  {
   "cell_type": "code",
   "execution_count": 25,
   "id": "3dc46a01",
   "metadata": {},
   "outputs": [],
   "source": [
    "split_data(path)"
   ]
  },
  {
   "cell_type": "markdown",
   "id": "370dbbfd",
   "metadata": {},
   "source": [
    "# Predictions"
   ]
  },
  {
   "cell_type": "code",
   "execution_count": 26,
   "id": "326c8560",
   "metadata": {},
   "outputs": [],
   "source": [
    "class Propagator_Dataset(Dataset):\n",
    "    \n",
    "    def __init__(self, data, targets, sequence_len, total_data = 8000*200, transform=True, traj=200):\n",
    "        \n",
    "        self.data = data\n",
    "        self.targets = targets\n",
    "        self.transform = transform\n",
    "        self.sequence_len = sequence_len\n",
    "        self.total_data = total_data//sequence_len\n",
    "        self.traj = traj\n",
    "        \n",
    "        self.denom = self.traj//self.sequence_len  # 0-199=200 data per file / 5 = seq len \n",
    "        \n",
    "    def __getitem__(self, index):\n",
    "        \n",
    "        total_data = self.total_data  # 200 data by file (from 0 to 199), 1000 files(from 0 to 999), total data: 200*100 = 200000\n",
    "        \n",
    "        if index > total_data - 1:\n",
    "            print(\"Error, this data does not exist\")\n",
    "        else:\n",
    "            index_data = index\n",
    "            \n",
    "            X = np.empty((self.sequence_len,96), np.float32)\n",
    "            y = np.empty((self.sequence_len,64), np.float32)\n",
    "            \n",
    "            for i in range(self.sequence_len-1):\n",
    "                # Input data: Wavepacket real and imaginary part + Potential at time t\n",
    "                x_r = (np.load(self.data+str(index_data)+'/Wavepacket/'+str(i)+'-wave.npy')).real\n",
    "                x_i = (np.load(self.data+str(index_data)+'/Wavepacket/'+str(i)+'-wave.npy')).imag\n",
    "                x_p = np.load(self.data+str(index_data)+'/Potential/'+str(i)+'-potential.npy')\n",
    "                \n",
    "                X[i] = np.concatenate((x_r, x_i, x_p))  # flat array form\n",
    "                \n",
    "                # Output data: Wavepacket real and imaginary part at time t+1\n",
    "                y_r = (np.load(self.targets+str(index_data)+'/Wavepacket/'+str(i+1)+'-wave.npy')).real\n",
    "                y_i = (np.load(self.targets+str(index_data)+'/Wavepacket/'+str(i+1)+'-wave.npy')).imag\n",
    "        \n",
    "                y[i] = np.concatenate((y_r, y_i))  # flat array form\n",
    "                \n",
    "            '''  \n",
    "            # Output data: Wavepacket real and imaginary part at time t+sequence len\n",
    "            y_r = (np.load(self.targets+str(index_data)+'/Wavepacket/'+str(index_t+self.sequence_len)+'-wave.npy')).real\n",
    "            y_i = (np.load(self.targets+str(index_data)+'/Wavepacket/'+str(index_t+self.sequence_len)+'-wave.npy')).imag\n",
    "        \n",
    "            y = np.concatenate((y_r, y_i))  # flat array form\n",
    "            '''  \n",
    "        \n",
    "            if self.transform:\n",
    "                X = torch.from_numpy(X)\n",
    "                y = torch.from_numpy(y)\n",
    "        \n",
    "            return X, y#[None, :]\n",
    "    \n",
    "    def __len__(self):\n",
    "        \n",
    "        \n",
    "        return self.total_data"
   ]
  },
  {
   "cell_type": "code",
   "execution_count": 27,
   "id": "c50efe6e",
   "metadata": {},
   "outputs": [],
   "source": [
    "pathA = '../../Data_Gaussian_96size/dataA'  # Directory where are saving our data\n",
    "pathB = '../../Data_Gaussian_96size/dataB'\n",
    "pathC = '../../Data_Gaussian_96size/dataC'\n",
    "\n",
    "seq_len = 200  # How many time stamps"
   ]
  },
  {
   "cell_type": "code",
   "execution_count": 28,
   "id": "db8f9361",
   "metadata": {},
   "outputs": [],
   "source": [
    "datasetA = Propagator_Dataset(data=pathA, targets=pathA, transform=True, sequence_len=seq_len, total_data=1*200)\n",
    "datasetB = Propagator_Dataset(data=pathB, targets=pathB, transform=True, sequence_len=seq_len, total_data=1*200)\n",
    "datasetC = Propagator_Dataset(data=pathC, targets=pathC, transform=True, sequence_len=seq_len, total_data=1*200)"
   ]
  },
  {
   "cell_type": "code",
   "execution_count": 29,
   "id": "7d4c0a00",
   "metadata": {},
   "outputs": [
    {
     "data": {
      "text/plain": [
       "1"
      ]
     },
     "execution_count": 29,
     "metadata": {},
     "output_type": "execute_result"
    }
   ],
   "source": [
    "len(datasetA)"
   ]
  },
  {
   "cell_type": "code",
   "execution_count": 30,
   "id": "9a008ef8",
   "metadata": {},
   "outputs": [],
   "source": [
    "batch_size = 1"
   ]
  },
  {
   "cell_type": "code",
   "execution_count": 31,
   "id": "c7e657b1",
   "metadata": {},
   "outputs": [],
   "source": [
    "test_loaderA = DataLoader(datasetA, batch_size=batch_size)\n",
    "test_loaderB = DataLoader(datasetB, batch_size=batch_size)\n",
    "test_loaderC = DataLoader(datasetC, batch_size=batch_size)"
   ]
  },
  {
   "cell_type": "code",
   "execution_count": 32,
   "id": "d161371c",
   "metadata": {},
   "outputs": [
    {
     "name": "stdout",
     "output_type": "stream",
     "text": [
      "Train data:\n",
      "Shape of X in train loader: torch.Size([1, 200, 96])\n",
      "Shape of y in train loader: torch.Size([1, 200, 64])\n",
      "Batch size: 1\n"
     ]
    }
   ],
   "source": [
    "for X, y in test_loaderA:\n",
    "    print(\"Train data:\")\n",
    "    print(f\"Shape of X in train loader: {X.shape}\")\n",
    "    print(f\"Shape of y in train loader: {y.shape}\")\n",
    "    print(f\"Batch size: {X.size(0)}\")\n",
    "    break"
   ]
  },
  {
   "cell_type": "markdown",
   "id": "5a582046",
   "metadata": {},
   "source": [
    "## LSTM model"
   ]
  },
  {
   "cell_type": "code",
   "execution_count": 33,
   "id": "6d04335a",
   "metadata": {},
   "outputs": [],
   "source": [
    "device = 'cpu'"
   ]
  },
  {
   "cell_type": "code",
   "execution_count": 34,
   "id": "38460cef",
   "metadata": {},
   "outputs": [],
   "source": [
    "class LSTM(nn.Module):\n",
    "    def __init__(self, num_output, input_size, hidden_size, num_layers, seq_length):\n",
    "        super(LSTM, self).__init__()\n",
    "        self.num_output = num_output  # number of output\n",
    "        self.num_layers = num_layers  # number of layers\n",
    "        self.input_size = input_size  # input size\n",
    "        self.hidden_size = hidden_size  # hidden state\n",
    "        self.seq_length = seq_length  # sequence length\n",
    "\n",
    "        self.lstm = nn.LSTM(input_size=input_size, hidden_size=hidden_size,\n",
    "                          num_layers=num_layers, batch_first=True) #lstm\n",
    "        \n",
    "        #self.fc_1 =  nn.Linear(hidden_size, 1024) #fully connected 1\n",
    "\n",
    "        #self.relu = nn.ReLU()\n",
    "        \n",
    "        self.fc = nn.Linear(hidden_size, num_output) #fully connected last layer\n",
    "    \n",
    "    def forward(self,x):\n",
    "        \n",
    "        h_0 = Variable(torch.zeros(self.num_layers, x.size(0), self.hidden_size)) #hidden state\n",
    "        c_0 = Variable(torch.zeros(self.num_layers, x.size(0), self.hidden_size)) #internal state\n",
    "        \n",
    "        # Propagate input through LSTM\n",
    "        output, (hn, cn) = self.lstm(x, (h_0, c_0)) #lstm with input, hidden, and internal state\n",
    "        #hn = hn.view(-1,self.hidden_size) #reshaping the data for Dense layer next\n",
    "        #out = self.relu(hn)\n",
    "        #out = self.fc_1(out) #first Dense\n",
    "        #out = self.relu(output) #relu\n",
    "        out = self.fc(output) #Final Output\n",
    "        return out"
   ]
  },
  {
   "cell_type": "code",
   "execution_count": 35,
   "id": "dde86c8d",
   "metadata": {},
   "outputs": [],
   "source": [
    "model = torch.load('../Models/06-08-23_290EPOCHS.pth')"
   ]
  },
  {
   "cell_type": "markdown",
   "id": "41052efb",
   "metadata": {},
   "source": [
    "# Predictions"
   ]
  },
  {
   "cell_type": "code",
   "execution_count": 47,
   "id": "7d0b0550",
   "metadata": {},
   "outputs": [],
   "source": [
    "def prediction(test_load):\n",
    "    \n",
    "    for X,y in test_load:\n",
    "        X, y = X.to(device), y.to(device)\n",
    "    \n",
    "        Entrada = X\n",
    "    \n",
    "        Salida = y\n",
    "\n",
    "        with torch.inference_mode():\n",
    "            Prediccion = model(X.float())\n",
    "        break\n",
    "    \n",
    "    return Entrada, Salida, Prediccion"
   ]
  },
  {
   "cell_type": "code",
   "execution_count": 48,
   "id": "4f074332",
   "metadata": {},
   "outputs": [],
   "source": [
    "EntradaA, SalidaA, PrediccionA = prediction(test_loaderA)\n",
    "EntradaB, SalidaB, PrediccionB = prediction(test_loaderB)\n",
    "EntradaC, SalidaC, PrediccionC = prediction(test_loaderC)"
   ]
  },
  {
   "cell_type": "code",
   "execution_count": 66,
   "id": "d19f0cab",
   "metadata": {},
   "outputs": [],
   "source": [
    "def group_grid(test_loaderA, test_loaderB, test_loaderC, batch):\n",
    "    \n",
    "    Entrada = np.empty((200,288), np.float32)\n",
    "    Salida = np.empty((200,192), np.float32)\n",
    "    Prediccion = np.empty((200,192), np.float32)\n",
    "    \n",
    "    EntradaA, SalidaA, PrediccionA = prediction(test_loaderA)\n",
    "    EntradaB, SalidaB, PrediccionB = prediction(test_loaderB)\n",
    "    EntradaC, SalidaC, PrediccionC = prediction(test_loaderC)\n",
    "    \n",
    "    for t in range(200):\n",
    "        \n",
    "        for r in range(96):\n",
    "            Entrada[t][3*r] = EntradaA[batch, t, r]\n",
    "            Entrada[t][3*r+1] = EntradaB[batch, t, r]\n",
    "            Entrada[t][3*r+2] = EntradaC[batch, t, r]\n",
    "            \n",
    "        for s in range(64):\n",
    "            Salida[t][3*s] = SalidaA[batch, t, s]\n",
    "            Salida[t][3*s+1] = SalidaB[batch, t, s]\n",
    "            Salida[t][3*s+2] = SalidaC[batch, t, s]\n",
    "            \n",
    "            Prediccion[t][3*s] = PrediccionA[batch, t, s]\n",
    "            Prediccion[t][3*s+1] = PrediccionB[batch, t, s]\n",
    "            Prediccion[t][3*s+2] = PrediccionC[batch, t, s]\n",
    "    \n",
    "    return Entrada, Salida, Prediccion\n",
    "        \n",
    "    \n",
    "    "
   ]
  },
  {
   "cell_type": "code",
   "execution_count": 67,
   "id": "ef918a2d",
   "metadata": {},
   "outputs": [],
   "source": [
    "Entrada, Salida, Prediccion = group_grid(test_loaderA, test_loaderB, test_loaderC, 0)"
   ]
  },
  {
   "cell_type": "code",
   "execution_count": 68,
   "id": "32b1b394",
   "metadata": {},
   "outputs": [
    {
     "data": {
      "text/plain": [
       "numpy.ndarray"
      ]
     },
     "execution_count": 68,
     "metadata": {},
     "output_type": "execute_result"
    }
   ],
   "source": [
    "type(Entrada)"
   ]
  },
  {
   "cell_type": "code",
   "execution_count": 79,
   "id": "98bab385",
   "metadata": {},
   "outputs": [],
   "source": [
    "r_n = np.linspace(-1.5,1.5,96)\n",
    "\n",
    "time = int(50)\n",
    "\n",
    "In_real_vis = Entrada[time,0:96]\n",
    "In_imag_vis = Entrada[time,96:192]\n",
    "Pote = Entrada[time,192:288]\n",
    "\n",
    "Ou_real_vis = Salida[time,0:96]\n",
    "Ou_imag_vis = Salida[time,96:192]\n",
    "Pote_next = Entrada[time+1,192:288]\n",
    "\n",
    "Pred_real_vis = Prediccion[time,0:96]\n",
    "Pred_imag_vis = Prediccion[time,96:192]"
   ]
  },
  {
   "cell_type": "code",
   "execution_count": 85,
   "id": "560809a1",
   "metadata": {},
   "outputs": [
    {
     "data": {
      "image/png": "[encoded data removed]",
      "text/plain": [
       "<Figure size 648x360 with 4 Axes>"
      ]
     },
     "metadata": {
      "needs_background": "light"
     },
     "output_type": "display_data"
    }
   ],
   "source": [
    "fig, axs = plt.subplots(2,2)\n",
    "\n",
    "# Lenght: au -> Angstroms\n",
    "axs[0,0].plot(r_n, Pote*(1/1.5936e-3), \"-\", label=\"$V(r,t)$\", color=\"C4\")\n",
    "axs[0,0].plot(r_n, In_real_vis*20, label=\"$\\psi_{r}(r, t)$\", color=\"C0\")  # Escaled\n",
    "\n",
    "\n",
    "axs[0,1].plot(r_n, Pote*(1/1.5936e-3), \"-\", label=\"$V(r,t)$\", color=\"C4\")\n",
    "axs[0,1].plot(r_n, In_imag_vis*20, label=\"$\\psi_{i}(r, t)$\", color = \"C2\")  # Escaled\n",
    "\n",
    "#axs[0].plot(r_n, Pote_next*(1/1.5936e-3), \"-\", label=\"V(r,t)\", color=color[3])\n",
    "axs[1,0].plot(r_n, Ou_real_vis*20, label=\"$\\psi_{r}(r, t+1)_{True}$\", color=\"C0\")  # Escaled\n",
    "axs[1,0].scatter(r_n, Pred_real_vis*20, label=\"$\\psi_{r}(r, t+1)_{LSTM}$\", color=\"C1\", marker='.')  # Escaled\n",
    " \n",
    "\n",
    "axs[1,1].plot(r_n, Ou_imag_vis*20, label=\"$\\psi_{i}(r, t+1)_{True}$\", color = \"C2\")  # Escaled\n",
    "axs[1,1].scatter(r_n, Pred_imag_vis*20, label=\"$\\psi_{i}(r, t+1)_{LSTM}$\", color = \"C1\", marker='.')  # Escaled\n",
    "\n",
    "for axr1 in axs:\n",
    "    for axr11 in axr1:\n",
    "        #axr11.set_ylim([-20, 60])\n",
    "        axr11.legend()\n",
    "        axr11.set(xlabel='Position [$\\AA$]')#, ylabel='Energy [Kcal/mol]')\n",
    "# Hide x labels and tick labels for top plots and y ticks for right plots.\n",
    "for ax in axs.flat:\n",
    "    ax.label_outer()\n",
    " \n",
    "\n",
    "    plt.gcf().set_size_inches(9, 5)\n",
    "plt.legend()    \n",
    "plt.show()"
   ]
  },
  {
   "cell_type": "code",
   "execution_count": 81,
   "id": "2fce04ed",
   "metadata": {},
   "outputs": [],
   "source": [
    "with open(os.path.join('../Animacion/ModelLSTM-96size/prediccion.npy'), 'wb') as f:\n",
    "    np.save(f, Prediccion)"
   ]
  },
  {
   "cell_type": "code",
   "execution_count": 82,
   "id": "b9bd582b",
   "metadata": {},
   "outputs": [],
   "source": [
    "with open(os.path.join('../Animacion/ModelLSTM-96size/salida.npy'), 'wb') as f:\n",
    "    np.save(f, Salida)"
   ]
  },
  {
   "cell_type": "code",
   "execution_count": 83,
   "id": "a8a85d2a",
   "metadata": {},
   "outputs": [],
   "source": [
    "Potencial = Entrada[:,192:288]"
   ]
  },
  {
   "cell_type": "code",
   "execution_count": 84,
   "id": "7318a673",
   "metadata": {},
   "outputs": [],
   "source": [
    "with open(os.path.join('../Animacion/ModelLSTM-96size/potencial.npy'), 'wb') as f:\n",
    "    np.save(f, Potencial)"
   ]
  },
  {
   "cell_type": "code",
   "execution_count": null,
   "id": "89caf4d1",
   "metadata": {},
   "outputs": [],
   "source": []
  }
 ],
 "metadata": {
  "kernelspec": {
   "display_name": "Python 3 (ipykernel)",
   "language": "python",
   "name": "python3"
  },
  "language_info": {
   "codemirror_mode": {
    "name": "ipython",
    "version": 3
   },
   "file_extension": ".py",
   "mimetype": "text/x-python",
   "name": "python",
   "nbconvert_exporter": "python",
   "pygments_lexer": "ipython3",
   "version": "3.9.7"
  }
 },
 "nbformat": 4,
 "nbformat_minor": 5
}
