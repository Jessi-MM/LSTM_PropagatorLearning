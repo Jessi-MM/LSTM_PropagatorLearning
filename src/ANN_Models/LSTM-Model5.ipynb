{
 "cells": [
  {
   "cell_type": "code",
   "execution_count": 28,
   "id": "7d0a5db9",
   "metadata": {},
   "outputs": [],
   "source": [
    "import torch\n",
    "from torch import nn\n",
    "from torch.autograd import Variable\n",
    "from torch.utils.data import DataLoader\n",
    "from torchvision import datasets\n",
    "from torchvision.transforms import ToTensor\n",
    "from torch.utils.data.sampler import SubsetRandomSampler\n",
    "from torch.utils.data.sampler import SequentialSampler\n",
    "from torch.utils.data import Dataset\n",
    "from torch.utils.tensorboard import SummaryWriter\n",
    "\n",
    "import numpy as np\n",
    "from matplotlib import pyplot as plt\n",
    "from scipy import integrate\n",
    "\n",
    "import h5py\n",
    "import time\n",
    "\n",
    "#import matplotlib.colors as mcolors\n",
    "#from matplotlib import rcParams\n",
    "\n",
    "#import os\n",
    "#-----\n",
    "\n",
    "\n",
    "# Enable interactive plot\n",
    "#%matplotlib notebook\n",
    "#plt.style.use('pusheen')  # to poster\n",
    "color = ['#83b692','#f9ada0', '#f9627d', '#c65b7c', '#5b3758']"
   ]
  },
  {
   "cell_type": "markdown",
   "id": "15517338",
   "metadata": {},
   "source": [
    "from matplotlib import rc\n",
    "\n",
    "rc('text', usetex=True)\n",
    "rc('font',**{'family':'serif','serif':['Palatino']})\n",
    "\n",
    "color1 = ['#ff595e','#ffca3a','#8ac926','#1982c4','#6a4c93']\n",
    "color = ['#83b692','#f9ada0', '#f9627d', '#c65b7c', '#5b3758']"
   ]
  },
  {
   "cell_type": "markdown",
   "id": "9a6cd442",
   "metadata": {},
   "source": [
    "## Loading dataset"
   ]
  },
  {
   "cell_type": "code",
   "execution_count": 2,
   "id": "b15a6af6",
   "metadata": {},
   "outputs": [],
   "source": [
    "seq_len=200  # number of steps on trajectories\n",
    "n_grid = 32  # number of points on grid\n",
    "delta = True # True: y_pred = Psi_t -Psi_{t-1}; else: y_pred = Psi_t \n",
    "\n",
    "if delta == True:\n",
    "    path_dat = '../DataLoader/Data/datadelta.h5'\n",
    "else:\n",
    "    path_dat = '../DataLoader/Data/data.h5'"
   ]
  },
  {
   "cell_type": "code",
   "execution_count": 3,
   "id": "6643fa23",
   "metadata": {},
   "outputs": [],
   "source": [
    "class Propagator_Dataset(Dataset):\n",
    "    \n",
    "    def __init__(self, path, data, targets, transform=True):\n",
    "        \n",
    "        self.data = data  # path of data X\n",
    "        self.targets = targets  # path of labels y\n",
    "        self.transform = transform  # to tensor\n",
    "        \n",
    "        self.hf = h5py.File(path, 'r')  # reading data\n",
    "        \n",
    "        \n",
    "    def __getitem__(self, index):\n",
    "        \n",
    "        X = self.hf.get(self.data)[index]\n",
    "        y = self.hf.get(self.targets)[index]\n",
    "        \n",
    "        if self.transform:\n",
    "            X = torch.tensor(X)\n",
    "            y = torch.tensor(y)\n",
    "        \n",
    "        return X, y\n",
    "    \n",
    "    def __len__(self):\n",
    "        \n",
    "        \n",
    "        tot = len(self.hf.get(self.data))\n",
    "        #tot = 100\n",
    "        \n",
    "        return tot"
   ]
  },
  {
   "cell_type": "code",
   "execution_count": 4,
   "id": "e090cb9f",
   "metadata": {},
   "outputs": [],
   "source": [
    "dataset = Propagator_Dataset(path=path_dat, data='dataset_X', targets='dataset_y')"
   ]
  },
  {
   "cell_type": "code",
   "execution_count": 5,
   "id": "d11a37da",
   "metadata": {},
   "outputs": [
    {
     "name": "stdout",
     "output_type": "stream",
     "text": [
      "Total of data  8000\n"
     ]
    }
   ],
   "source": [
    "dataset_size = len(dataset)\n",
    "print('Total of data ', dataset_size)"
   ]
  },
  {
   "cell_type": "code",
   "execution_count": 6,
   "id": "3b6edf0f",
   "metadata": {},
   "outputs": [],
   "source": [
    "test_split = 0.1\n",
    "validation_split = 0.2  \n",
    "shuffle_dataset = False\n",
    "random_seed= 42"
   ]
  },
  {
   "cell_type": "code",
   "execution_count": 7,
   "id": "0ceb51b2",
   "metadata": {},
   "outputs": [],
   "source": [
    "# Creating data indices for training and validation splits:\n",
    "indices = list(range(dataset_size))\n",
    "split_val = int(np.floor(validation_split * dataset_size))\n",
    "split_test = int(np.floor(test_split * dataset_size))\n",
    "\n",
    "if shuffle_dataset :\n",
    "    np.random.seed(random_seed)\n",
    "    np.random.shuffle(indices)\n",
    "    \n",
    "\n",
    "test_indices = indices[0:split_test] \n",
    "val_indices = indices[split_test:split_test+split_val]   \n",
    "train_indices = indices[split_test+split_val:]\n",
    "\n",
    "#train_indices, val_indices = indices[split:], indices[:split]\n",
    "\n",
    "# Creating PT data samplers and loaders:\n",
    "train_sampler = SubsetRandomSampler(train_indices)\n",
    "val_sampler = SubsetRandomSampler(val_indices)\n",
    "test_sampler = SubsetRandomSampler(test_indices)"
   ]
  },
  {
   "cell_type": "code",
   "execution_count": 8,
   "id": "cae55936",
   "metadata": {},
   "outputs": [
    {
     "name": "stdout",
     "output_type": "stream",
     "text": [
      "Total of train samples: 5600\n",
      "Total of validation samples: 1600\n",
      "Total of test samples: 800\n"
     ]
    }
   ],
   "source": [
    "print(f\"Total of train samples: {len(train_sampler)}\")\n",
    "print(f\"Total of validation samples: {len(val_sampler)}\")\n",
    "print(f\"Total of test samples: {len(test_sampler)}\")"
   ]
  },
  {
   "cell_type": "markdown",
   "id": "e29dafb6",
   "metadata": {},
   "source": [
    "### Parameters"
   ]
  },
  {
   "cell_type": "code",
   "execution_count": 9,
   "id": "d7fb09ea",
   "metadata": {},
   "outputs": [],
   "source": [
    "batch_size = 10\n",
    "learning_rate = 1e-4"
   ]
  },
  {
   "cell_type": "markdown",
   "id": "afd0c6c7",
   "metadata": {},
   "source": [
    "___"
   ]
  },
  {
   "cell_type": "code",
   "execution_count": 10,
   "id": "9db763be",
   "metadata": {},
   "outputs": [],
   "source": [
    "train_loader = DataLoader(dataset, batch_size=batch_size, sampler=train_sampler)\n",
    "val_loader = DataLoader(dataset, batch_size=batch_size, sampler=val_sampler)\n",
    "test_loader = DataLoader(dataset, batch_size=batch_size, sampler=test_sampler)"
   ]
  },
  {
   "cell_type": "code",
   "execution_count": 11,
   "id": "5c493b3e",
   "metadata": {},
   "outputs": [
    {
     "name": "stdout",
     "output_type": "stream",
     "text": [
      "Train data:\n",
      "Shape of X in train loader: torch.Size([10, 200, 96])\n",
      "Shape of y in train loader: torch.Size([10, 200, 64])\n",
      "Batch size: 10\n"
     ]
    }
   ],
   "source": [
    "for X, y in train_loader:\n",
    "    print(\"Train data:\")\n",
    "    print(f\"Shape of X in train loader: {X.shape}\")\n",
    "    print(f\"Shape of y in train loader: {y.shape}\")\n",
    "    print(f\"Batch size: {X.size(0)}\")\n",
    "    break"
   ]
  },
  {
   "cell_type": "code",
   "execution_count": 12,
   "id": "d3216f47",
   "metadata": {},
   "outputs": [],
   "source": [
    "# Display features and label.\n",
    "train_features, train_labels = next(iter(train_loader))\n",
    "\n",
    "X_vis = train_features[0].squeeze()\n",
    "y_vis = train_labels[0].squeeze()"
   ]
  },
  {
   "cell_type": "code",
   "execution_count": 13,
   "id": "60e84b29",
   "metadata": {},
   "outputs": [
    {
     "data": {
      "image/png": "[encoded data removed]",
      "text/plain": [
       "<Figure size 576x216 with 2 Axes>"
      ]
     },
     "metadata": {
      "needs_background": "light"
     },
     "output_type": "display_data"
    }
   ],
   "source": [
    "r_n = torch.linspace(-1.5,1.5,32)\n",
    "time = int(0)  # from 0 to 199\n",
    "\n",
    "In_real_vis = X_vis[time,0:n_grid]\n",
    "In_imag_vis = X_vis[time,n_grid:n_grid*2]\n",
    "In_pote = X_vis[time,n_grid*2:]\n",
    "\n",
    "Ou_real_vis = y_vis[time,0:n_grid]\n",
    "Ou_imag_vis = y_vis[time,n_grid:n_grid*2]\n",
    "\n",
    "\n",
    "fig, axs = plt.subplots(1,2)\n",
    "\n",
    "\n",
    "# Lenght: au -> Angstroms & au -> kcal/mol\n",
    "axs[0].plot(r_n, In_pote*(1/1.5936e-3), \"-\", label=\"$V(r,t)$\", color=color[3])\n",
    "axs[0].plot(r_n, In_real_vis*30, label=\"$\\psi_{real}(r, t)$\", color = color[0])  # Escaled\n",
    "axs[0].plot(r_n, In_imag_vis*30, label=\"$\\psi_{imag}(r, t)$\", color=color[1])  # Escaled\n",
    "axs[0].set_title(\"Input\")\n",
    "\n",
    "axs[1].plot(r_n, (In_real_vis + Ou_real_vis)*30, label=\"$\\psi_{real}(r, t+1)$\", color = color[0])  # Escaled\n",
    "axs[1].plot(r_n, (In_imag_vis + Ou_imag_vis)*30, label=\"$\\psi_{imag}(r, t+1)$\", color = color[1])  # Escaled\n",
    "axs[1].set_title(\"Output\")\n",
    "\n",
    "\n",
    "for ax in axs.flat:\n",
    "    ax.label_outer()\n",
    "    ax.set_ylim([-15, 50])\n",
    "    ax.legend()\n",
    "    ax.set(xlabel='Position [$\\AA$]', ylabel='Energy [Kcal/mol]')\n",
    "\n",
    "plt.gcf().set_size_inches(8, 3)\n",
    "ax.legend()\n",
    "plt.show()"
   ]
  },
  {
   "cell_type": "markdown",
   "id": "57dae950",
   "metadata": {},
   "source": [
    "## LSTM model\n",
    "___"
   ]
  },
  {
   "cell_type": "code",
   "execution_count": 14,
   "id": "95dad5f8",
   "metadata": {},
   "outputs": [
    {
     "name": "stdout",
     "output_type": "stream",
     "text": [
      "1.9.0+cu102\n"
     ]
    }
   ],
   "source": [
    "print(torch.__version__)"
   ]
  },
  {
   "cell_type": "code",
   "execution_count": 15,
   "id": "36a3c083",
   "metadata": {},
   "outputs": [],
   "source": [
    "device = 'cpu'"
   ]
  },
  {
   "cell_type": "code",
   "execution_count": 16,
   "id": "1716ed4e",
   "metadata": {},
   "outputs": [],
   "source": [
    "class LSTM(nn.Module):\n",
    "    def __init__(self, num_output, input_size, hidden_size, num_layers, seq_length):\n",
    "        super(LSTM, self).__init__()\n",
    "        self.num_output = num_output  # number of output\n",
    "        self.num_layers = num_layers  # number of layers\n",
    "        self.input_size = input_size  # input size\n",
    "        self.hidden_size = hidden_size  # hidden state\n",
    "        self.seq_length = seq_length  # sequence length\n",
    "\n",
    "        self.lstm = nn.LSTM(input_size=input_size, hidden_size=hidden_size,\n",
    "                          num_layers=num_layers, batch_first=True).to(device) #lstm\n",
    "        \n",
    "        #self.fc_1 =  nn.Linear(hidden_size, 1024) #fully connected 1\n",
    "\n",
    "        #self.relu = nn.ReLU()\n",
    "        \n",
    "        self.fc = nn.Linear(hidden_size, num_output).to(device) #fully connected last layer\n",
    "    \n",
    "    def forward(self,x):\n",
    "        \n",
    "        h_0 = Variable(torch.zeros(self.num_layers, x.size(0), self.hidden_size)) #hidden state\n",
    "        c_0 = Variable(torch.zeros(self.num_layers, x.size(0), self.hidden_size)) #internal state\n",
    "        \n",
    "        # Propagate input through LSTM\n",
    "        output, (hn, cn) = self.lstm(x, (h_0, c_0)) #lstm with input, hidden, and internal state\n",
    "        #hn = hn.view(-1,self.hidden_size) #reshaping the data for Dense layer next\n",
    "        #out = self.relu(hn)\n",
    "        #out = self.fc_1(out) #first Dense\n",
    "        #out = self.relu(output) #relu\n",
    "        out = self.fc(output) #Final Output\n",
    "        return out"
   ]
  },
  {
   "cell_type": "code",
   "execution_count": 17,
   "id": "203deddf",
   "metadata": {},
   "outputs": [],
   "source": [
    "input_size = n_grid*3  # number of features: 32 real part +32 complex part +32 potential\n",
    "hidden_size = 1024  # number of features in hidden state\n",
    "num_layers = 2  # number of stacked lstm layers\n",
    "num_output = n_grid*2  # number of output: 32 real part + 32 complex part\n",
    "sequence_len = seq_len # lenght of time steps (1 fs each one) total 5 fs"
   ]
  },
  {
   "cell_type": "code",
   "execution_count": 18,
   "id": "baeb44e6",
   "metadata": {},
   "outputs": [],
   "source": [
    "model = LSTM(num_output, input_size, hidden_size, num_layers, sequence_len) #our lstm class"
   ]
  },
  {
   "cell_type": "code",
   "execution_count": 19,
   "id": "8b5990f0",
   "metadata": {},
   "outputs": [],
   "source": [
    "# Initialize the loss function and optimizer\n",
    "criterion = nn.MSELoss().to(device)\n",
    "optimizer = torch.optim.AdamW(model.parameters(), lr=learning_rate)  #weight_decay=0.01 <- default"
   ]
  },
  {
   "cell_type": "code",
   "execution_count": 20,
   "id": "9f90b740",
   "metadata": {},
   "outputs": [],
   "source": [
    "#model = torch.load('../../src/Models/06-08-23_290EPOCHS.pth')"
   ]
  },
  {
   "cell_type": "code",
   "execution_count": 21,
   "id": "191f61c6",
   "metadata": {},
   "outputs": [
    {
     "name": "stdout",
     "output_type": "stream",
     "text": [
      "LSTM(\n",
      "  (lstm): LSTM(96, 1024, num_layers=2, batch_first=True)\n",
      "  (fc): Linear(in_features=1024, out_features=64, bias=True)\n",
      ")\n"
     ]
    }
   ],
   "source": [
    "print(model)"
   ]
  },
  {
   "cell_type": "markdown",
   "id": "4a434ec8",
   "metadata": {},
   "source": [
    "## Accuracy function"
   ]
  },
  {
   "cell_type": "code",
   "execution_count": 22,
   "id": "13608c88",
   "metadata": {},
   "outputs": [],
   "source": [
    "def S_overlap(Psi_true, Psi_ANN, X):\n",
    "    \"\"\"\n",
    "    Input:\n",
    "    Psi_true: Evolution of wavepacket from dataset test, Shape: (batch size, sequence lenght, 64)\n",
    "    Psi_ANN: Evolution of wavepacket predicted with the model, Shape: (batch size, sequence lenght, 64)\n",
    "    X : Evolution of wavepacket at time t-1\n",
    "    \n",
    "    Output:\n",
    "    S: Absolute magnitude\n",
    "    angle: phase\n",
    "    Characterizes the quality of the predictions. See equation (11) of Main article\n",
    "\n",
    "    \"\"\"\n",
    "    \n",
    "    Psi_true_re = Psi_true[:,:,0:n_grid] + X[:,:,0:n_grid]   # realpart of wavepacket predicted\n",
    "    Psi_true_im = Psi_true[:,:,n_grid:n_grid*2] + X[:,:,n_grid:n_grid*2]  # imaginary part of wavepacket predicted \n",
    "    Psi_t = torch.view_as_complex(torch.stack((Psi_true_re,Psi_true_im), -1)).to(device)\n",
    "    \n",
    "    Psi_ANN_re = Psi_ANN[:,:,0:n_grid]+ X[:,:,0:n_grid]  # realpart of wavepacket predicted\n",
    "    Psi_ANN_im = -(Psi_ANN[:,:,n_grid:n_grid*2]+ X[:,:,n_grid:n_grid*2])  # imaginary part of wavepacket predicted (- because conjugate)\n",
    "    Psi_A = torch.view_as_complex(torch.stack((Psi_ANN_re,Psi_ANN_im), -1)).to(device)\n",
    "    \n",
    "    overl = Psi_A*Psi_t\n",
    "    \n",
    "    # Integrate over r (real integral + complex integral)\n",
    "    # Trapezoid method in the grid r_n (angstroms -> au)\n",
    "    \n",
    "    r_n = (torch.linspace(-1.5,1.5,32)*(1/0.5291775)).to(device)\n",
    "    overl_real = overl.real\n",
    "    overl_imag = overl.imag\n",
    "    \n",
    "    real_integ = torch.trapz(overl_real, r_n).to(device)\n",
    "    imag_integ = torch.trapz(overl_imag, r_n).to(device)\n",
    "    \n",
    "    # Covert to phase and magnitude of the complex result\n",
    "    S =  torch.sqrt(real_integ**2 + imag_integ**2).to(device)\n",
    "    angle = torch.arctan(imag_integ/real_integ).to(device)\n",
    "    \n",
    "    # Mean S & angle\n",
    "    S = torch.sum(S)/(batch_size*seq_len)\n",
    "    angle = torch.sum(angle)/(batch_size*seq_len)\n",
    "    \n",
    "    \n",
    "    return S, angle"
   ]
  },
  {
   "cell_type": "code",
   "execution_count": 57,
   "id": "53b8b25f",
   "metadata": {},
   "outputs": [
    {
     "name": "stdout",
     "output_type": "stream",
     "text": [
      "Test Error: \n",
      " Accuracy: 100.0%\n",
      "\n",
      "Test Error: \n",
      " Accuracy: 0.0%\n",
      "\n",
      "CPU times: user 3.02 s, sys: 50.3 ms, total: 3.07 s\n",
      "Wall time: 845 ms\n"
     ]
    }
   ],
   "source": [
    "%%time\n",
    "# Test over test loader\n",
    "correct1 = 0\n",
    "correct2 = 0\n",
    "for X, y in test_loader:                                                                                                                                                                                                                                                                                                                                                                                                                                                                                                                                                                                                                                                                                                                                                                                                                                                                                                                                                                                                                                                                             \n",
    "    X, y = X.to(device), y.to(device)\n",
    "    S, angle = S_overlap(y, y, X)  # Accuracy by equation (11) Main Article       \n",
    "    correct1 += S\n",
    "    correct2 += angle\n",
    "correct1 /= len(test_loader)\n",
    "correct2 /= len(test_loader)\n",
    "print(f\"Test Error: \\n Accuracy: {(100*correct1):>0.1f}%\\n\")# Should be 100% because y=y => main of |S| = 1\n",
    "print(f\"Test Error: \\n Accuracy: {(correct2):>0.1f}%\\n\")# Should be 0"
   ]
  },
  {
   "cell_type": "code",
   "execution_count": 60,
   "id": "94dd93d0",
   "metadata": {},
   "outputs": [],
   "source": [
    "writer = SummaryWriter(comment=\"trash\")  # To use tensorboard"
   ]
  },
  {
   "cell_type": "code",
   "execution_count": 61,
   "id": "ccac99ad",
   "metadata": {},
   "outputs": [],
   "source": [
    "for X,y in train_loader:\n",
    "    writer.add_graph(model,X)  # to draw diagram model\n",
    "    break"
   ]
  },
  {
   "cell_type": "markdown",
   "id": "9d4501d2",
   "metadata": {},
   "source": [
    "## Train & Test loop definition"
   ]
  },
  {
   "cell_type": "code",
   "execution_count": 23,
   "id": "37c0e2f3",
   "metadata": {},
   "outputs": [],
   "source": [
    "def train(dataloader, model, loss_fn, optimizer):\n",
    "    size = len(dataloader)#len(dataloader.dataset)\n",
    "    model.train()\n",
    "    for batch, (X, y) in enumerate(dataloader):\n",
    "        X, y = X.to(device), y.squeeze().to(device)\n",
    "\n",
    "        # Compute prediction error\n",
    "        pred = model(X.float()).squeeze()\n",
    "        loss = loss_fn(pred, y.float())\n",
    "        \n",
    "        # Backpropagation\n",
    "        optimizer.zero_grad()\n",
    "        loss.backward()\n",
    "        optimizer.step()\n",
    "\n",
    "        if batch % 100 == 0:\n",
    "            loss, current = loss.item(), batch\n",
    "            print(f\"loss: {loss:>7f}  [{current:>5d}/{size:>5d}]\")\n",
    "    \n",
    "    writer.add_scalar(\"Loss/train\", loss, epoch)\n"
   ]
  },
  {
   "cell_type": "code",
   "execution_count": 24,
   "id": "f25084d5",
   "metadata": {},
   "outputs": [],
   "source": [
    "def test(dataloader, model, loss_fn):\n",
    "    size = len(dataloader.dataset)\n",
    "    num_batches = len(dataloader)\n",
    "    model.eval()\n",
    "    test_loss, correctS, correct_phase = 0, 0, 0\n",
    "    \n",
    "    with torch.no_grad():\n",
    "        for X, y in dataloader:                                                                                                                                                                                                                                                                                                                                                                                                                                                                                                                                                                                                                                                                                                                                                                                                                                                                                                                                                                                                                                                                             \n",
    "            X, y = X.to(device), y.to(device)\n",
    "            pred = model(X.float())\n",
    "            test_loss += loss_fn(pred, y).item()\n",
    "            S, angle = S_overlap(y, pred,X)  \n",
    "            correctS += S\n",
    "            correct_phase += angle\n",
    "    \n",
    "    correctS /= num_batches\n",
    "    correct_phase /= num_batches\n",
    "    test_loss /= num_batches\n",
    "    \n",
    "    writer.add_scalar('Accuracy Magnitude |S| /test', 100*correctS, epoch)  # Should be 100%\n",
    "    writer.add_scalar('Accuracy phase /test', correct_phase, epoch)  # Should be 0\n",
    "    writer.add_scalar(\"Loss/validation\", test_loss, epoch)\n",
    "\n",
    "    \n",
    "\n",
    "    print(f\"Test Error: \\n Accuracy Magnitude |S|: {(100*correctS):>0.1f}%\")\n",
    "    print(f\"Test Error: \\n Accuracy phase: {(correct_phase):>0.1f}\\n\")"
   ]
  },
  {
   "cell_type": "markdown",
   "id": "23eebf1e",
   "metadata": {},
   "source": [
    "## Training"
   ]
  },
  {
   "cell_type": "code",
   "execution_count": 64,
   "id": "9169ed5a",
   "metadata": {},
   "outputs": [
    {
     "name": "stdout",
     "output_type": "stream",
     "text": [
      "Epoch 1\n",
      "-------------------------------\n",
      "loss: 0.108901  [    0/  560]\n",
      "loss: 0.107287  [  100/  560]\n",
      "loss: 0.071403  [  200/  560]\n",
      "loss: 0.068194  [  300/  560]\n",
      "loss: 0.065636  [  400/  560]\n",
      "loss: 0.056550  [  500/  560]\n",
      "Test Error: \n",
      " Accuracy Magnitude |S|: 36.4%\n",
      "Test Error: \n",
      " Accuracy phase: -0.1\n",
      "\n",
      "CPU times: user 2h 15min 1s, sys: 12.2 s, total: 2h 15min 13s\n",
      "Wall time: 34min\n"
     ]
    }
   ],
   "source": [
    "%%time\n",
    "epochs = 1\n",
    "for epoch in range(0,epochs):\n",
    "    print(f\"Epoch {epoch+1}\\n-------------------------------\")\n",
    "    train(train_loader, model, criterion, optimizer)\n",
    "    test(val_loader, model, criterion)\n",
    "    \n",
    "writer.flush()"
   ]
  },
  {
   "cell_type": "code",
   "execution_count": null,
   "id": "9d87c90f",
   "metadata": {},
   "outputs": [],
   "source": [
    "#torch.save(model, '../../Models/06-08-23_290EPOCHS.pth')"
   ]
  },
  {
   "cell_type": "code",
   "execution_count": null,
   "id": "cee11b5f",
   "metadata": {},
   "outputs": [],
   "source": [
    "# Initialize the loss function and optimizer\n",
    "#criterion = nn.MSELoss().to(device)\n",
    "##optimizer = torch.optim.AdamW(model.parameters(), lr=learning_rate)  #weight_decay=0.01 <- default"
   ]
  },
  {
   "cell_type": "markdown",
   "id": "46d58e7d",
   "metadata": {},
   "source": [
    "## Accuracy Test New Data"
   ]
  },
  {
   "cell_type": "code",
   "execution_count": 25,
   "id": "827e4e56",
   "metadata": {},
   "outputs": [],
   "source": [
    "def test1(dataloader, model, loss_fn):\n",
    "    '''\n",
    "    Same as test function but without writer to tensorboard\n",
    "    '''\n",
    "    size = len(dataloader.dataset)\n",
    "    num_batches = len(dataloader)\n",
    "    model.eval()\n",
    "    test_loss, correctS, correct_phase = 0, 0, 0\n",
    "    \n",
    "    with torch.no_grad():\n",
    "        for X, y in dataloader:                                                                                                                                                                                                                                                                                                                                                                                                                                                                                                                                                                                                                                                                                                                                                                                                                                                                                                                                                                                                                                                                             \n",
    "            X, y = X.to(device), y.to(device)\n",
    "            pred = model(X.float())\n",
    "            test_loss += loss_fn(pred, y).item()\n",
    "            S, angle = S_overlap(y,pred)  \n",
    "            correctS += S\n",
    "            correct_phase += angle\n",
    "    \n",
    "    correctS /= num_batches\n",
    "    correct_phase /= num_batches\n",
    "\n",
    "    print(f\"Test Error: \\n Accuracy Magnitude |S|: {(100*correctS):>0.1f}%\")\n",
    "    print(f\"Test Error: \\n Accuracy phase: {(correct_phase):>0.1f}\\n\")"
   ]
  },
  {
   "cell_type": "code",
   "execution_count": null,
   "id": "44e21259",
   "metadata": {},
   "outputs": [],
   "source": [
    "test1(test_loader, model2, criterion)"
   ]
  },
  {
   "cell_type": "markdown",
   "id": "6c20d6c9",
   "metadata": {},
   "source": [
    "|Model Name: 06-08-23_--EPOCHS.pth|\n",
    "|--- |\n",
    "\n",
    "|Epoch | Accuracy Magnitude | Accuracy phase |\n",
    "| --- | --- | --- |\n",
    "|220 | 94.1%| 0.0015 |\n",
    "|240 | 94.3%| -0.014 |\n",
    "|260 | 94.4%| -0.003 |\n",
    "|290 | 94.6%| 0.0001|"
   ]
  },
  {
   "cell_type": "code",
   "execution_count": 26,
   "id": "37deac8f",
   "metadata": {},
   "outputs": [
    {
     "ename": "FileNotFoundError",
     "evalue": "[Errno 2] No such file or directory: '../Models/06-08-23_290EPOCHS.pth'",
     "output_type": "error",
     "traceback": [
      "\u001b[0;31m---------------------------------------------------------------------------\u001b[0m",
      "\u001b[0;31mFileNotFoundError\u001b[0m                         Traceback (most recent call last)",
      "\u001b[0;32m/tmp/ipykernel_400545/3195647540.py\u001b[0m in \u001b[0;36m<module>\u001b[0;34m\u001b[0m\n\u001b[0;32m----> 1\u001b[0;31m \u001b[0mmodel\u001b[0m \u001b[0;34m=\u001b[0m \u001b[0mtorch\u001b[0m\u001b[0;34m.\u001b[0m\u001b[0mload\u001b[0m\u001b[0;34m(\u001b[0m\u001b[0;34m'../Models/06-08-23_290EPOCHS.pth'\u001b[0m\u001b[0;34m)\u001b[0m\u001b[0;34m\u001b[0m\u001b[0;34m\u001b[0m\u001b[0m\n\u001b[0m",
      "\u001b[0;32m~/anaconda3/lib/python3.9/site-packages/torch/serialization.py\u001b[0m in \u001b[0;36mload\u001b[0;34m(f, map_location, pickle_module, **pickle_load_args)\u001b[0m\n\u001b[1;32m    592\u001b[0m         \u001b[0mpickle_load_args\u001b[0m\u001b[0;34m[\u001b[0m\u001b[0;34m'encoding'\u001b[0m\u001b[0;34m]\u001b[0m \u001b[0;34m=\u001b[0m \u001b[0;34m'utf-8'\u001b[0m\u001b[0;34m\u001b[0m\u001b[0;34m\u001b[0m\u001b[0m\n\u001b[1;32m    593\u001b[0m \u001b[0;34m\u001b[0m\u001b[0m\n\u001b[0;32m--> 594\u001b[0;31m     \u001b[0;32mwith\u001b[0m \u001b[0m_open_file_like\u001b[0m\u001b[0;34m(\u001b[0m\u001b[0mf\u001b[0m\u001b[0;34m,\u001b[0m \u001b[0;34m'rb'\u001b[0m\u001b[0;34m)\u001b[0m \u001b[0;32mas\u001b[0m \u001b[0mopened_file\u001b[0m\u001b[0;34m:\u001b[0m\u001b[0;34m\u001b[0m\u001b[0;34m\u001b[0m\u001b[0m\n\u001b[0m\u001b[1;32m    595\u001b[0m         \u001b[0;32mif\u001b[0m \u001b[0m_is_zipfile\u001b[0m\u001b[0;34m(\u001b[0m\u001b[0mopened_file\u001b[0m\u001b[0;34m)\u001b[0m\u001b[0;34m:\u001b[0m\u001b[0;34m\u001b[0m\u001b[0;34m\u001b[0m\u001b[0m\n\u001b[1;32m    596\u001b[0m             \u001b[0;31m# The zipfile reader is going to advance the current file position.\u001b[0m\u001b[0;34m\u001b[0m\u001b[0;34m\u001b[0m\u001b[0m\n",
      "\u001b[0;32m~/anaconda3/lib/python3.9/site-packages/torch/serialization.py\u001b[0m in \u001b[0;36m_open_file_like\u001b[0;34m(name_or_buffer, mode)\u001b[0m\n\u001b[1;32m    228\u001b[0m \u001b[0;32mdef\u001b[0m \u001b[0m_open_file_like\u001b[0m\u001b[0;34m(\u001b[0m\u001b[0mname_or_buffer\u001b[0m\u001b[0;34m,\u001b[0m \u001b[0mmode\u001b[0m\u001b[0;34m)\u001b[0m\u001b[0;34m:\u001b[0m\u001b[0;34m\u001b[0m\u001b[0;34m\u001b[0m\u001b[0m\n\u001b[1;32m    229\u001b[0m     \u001b[0;32mif\u001b[0m \u001b[0m_is_path\u001b[0m\u001b[0;34m(\u001b[0m\u001b[0mname_or_buffer\u001b[0m\u001b[0;34m)\u001b[0m\u001b[0;34m:\u001b[0m\u001b[0;34m\u001b[0m\u001b[0;34m\u001b[0m\u001b[0m\n\u001b[0;32m--> 230\u001b[0;31m         \u001b[0;32mreturn\u001b[0m \u001b[0m_open_file\u001b[0m\u001b[0;34m(\u001b[0m\u001b[0mname_or_buffer\u001b[0m\u001b[0;34m,\u001b[0m \u001b[0mmode\u001b[0m\u001b[0;34m)\u001b[0m\u001b[0;34m\u001b[0m\u001b[0;34m\u001b[0m\u001b[0m\n\u001b[0m\u001b[1;32m    231\u001b[0m     \u001b[0;32melse\u001b[0m\u001b[0;34m:\u001b[0m\u001b[0;34m\u001b[0m\u001b[0;34m\u001b[0m\u001b[0m\n\u001b[1;32m    232\u001b[0m         \u001b[0;32mif\u001b[0m \u001b[0;34m'w'\u001b[0m \u001b[0;32min\u001b[0m \u001b[0mmode\u001b[0m\u001b[0;34m:\u001b[0m\u001b[0;34m\u001b[0m\u001b[0;34m\u001b[0m\u001b[0m\n",
      "\u001b[0;32m~/anaconda3/lib/python3.9/site-packages/torch/serialization.py\u001b[0m in \u001b[0;36m__init__\u001b[0;34m(self, name, mode)\u001b[0m\n\u001b[1;32m    209\u001b[0m \u001b[0;32mclass\u001b[0m \u001b[0m_open_file\u001b[0m\u001b[0;34m(\u001b[0m\u001b[0m_opener\u001b[0m\u001b[0;34m)\u001b[0m\u001b[0;34m:\u001b[0m\u001b[0;34m\u001b[0m\u001b[0;34m\u001b[0m\u001b[0m\n\u001b[1;32m    210\u001b[0m     \u001b[0;32mdef\u001b[0m \u001b[0m__init__\u001b[0m\u001b[0;34m(\u001b[0m\u001b[0mself\u001b[0m\u001b[0;34m,\u001b[0m \u001b[0mname\u001b[0m\u001b[0;34m,\u001b[0m \u001b[0mmode\u001b[0m\u001b[0;34m)\u001b[0m\u001b[0;34m:\u001b[0m\u001b[0;34m\u001b[0m\u001b[0;34m\u001b[0m\u001b[0m\n\u001b[0;32m--> 211\u001b[0;31m         \u001b[0msuper\u001b[0m\u001b[0;34m(\u001b[0m\u001b[0m_open_file\u001b[0m\u001b[0;34m,\u001b[0m \u001b[0mself\u001b[0m\u001b[0;34m)\u001b[0m\u001b[0;34m.\u001b[0m\u001b[0m__init__\u001b[0m\u001b[0;34m(\u001b[0m\u001b[0mopen\u001b[0m\u001b[0;34m(\u001b[0m\u001b[0mname\u001b[0m\u001b[0;34m,\u001b[0m \u001b[0mmode\u001b[0m\u001b[0;34m)\u001b[0m\u001b[0;34m)\u001b[0m\u001b[0;34m\u001b[0m\u001b[0;34m\u001b[0m\u001b[0m\n\u001b[0m\u001b[1;32m    212\u001b[0m \u001b[0;34m\u001b[0m\u001b[0m\n\u001b[1;32m    213\u001b[0m     \u001b[0;32mdef\u001b[0m \u001b[0m__exit__\u001b[0m\u001b[0;34m(\u001b[0m\u001b[0mself\u001b[0m\u001b[0;34m,\u001b[0m \u001b[0;34m*\u001b[0m\u001b[0margs\u001b[0m\u001b[0;34m)\u001b[0m\u001b[0;34m:\u001b[0m\u001b[0;34m\u001b[0m\u001b[0;34m\u001b[0m\u001b[0m\n",
      "\u001b[0;31mFileNotFoundError\u001b[0m: [Errno 2] No such file or directory: '../Models/06-08-23_290EPOCHS.pth'"
     ]
    }
   ],
   "source": [
    "model = torch.load('../Models/06-08-23_290EPOCHS.pth')"
   ]
  },
  {
   "cell_type": "markdown",
   "id": "dfc71434",
   "metadata": {},
   "source": [
    "## Predictions wavepackets"
   ]
  },
  {
   "cell_type": "code",
   "execution_count": null,
   "id": "5a26e491",
   "metadata": {},
   "outputs": [],
   "source": [
    "for X,y in test_loader:\n",
    "    X, y = X.to(device), y.to(device)\n",
    "    \n",
    "    Entrada = X\n",
    "    \n",
    "    Salida = y\n",
    "\n",
    "    with torch.inference_mode():\n",
    "        Prediccion = model(X.float())\n",
    "    break"
   ]
  },
  {
   "cell_type": "code",
   "execution_count": null,
   "id": "91296a9e",
   "metadata": {},
   "outputs": [],
   "source": [
    "print(Entrada.shape)\n",
    "print(Prediccion.shape)\n",
    "print(Salida.shape)"
   ]
  },
  {
   "cell_type": "code",
   "execution_count": null,
   "id": "9b71b18f",
   "metadata": {},
   "outputs": [],
   "source": [
    "r_n = np.linspace(-1.5,1.5,32)\n",
    "\n",
    "time = int(105)\n",
    "\n",
    "In_real_vis = Entrada[2,time,0:32].detach().numpy()\n",
    "In_imag_vis = Entrada[2,time,32:64].detach().numpy()\n",
    "Pote = Entrada[2,time,64:96].detach().numpy()\n",
    "\n",
    "Ou_real_vis = Salida[2,time,0:32].detach().numpy()\n",
    "Ou_imag_vis = Salida[2,time,32:64].detach().numpy()\n",
    "Pote_next = Entrada[2,time+1,64:96].detach().numpy()\n",
    "\n",
    "Pred_real_vis = Prediccion[2,time,0:32].detach().numpy()\n",
    "Pred_imag_vis = Prediccion[2,time,32:64].detach().numpy()"
   ]
  },
  {
   "cell_type": "code",
   "execution_count": null,
   "id": "000d4f4e",
   "metadata": {},
   "outputs": [],
   "source": [
    "fig, axs = plt.subplots(2,2)\n",
    "\n",
    "# Lenght: au -> Angstroms\n",
    "axs[0,0].plot(r_n, Pote*(1/1.5936e-3), \"-\", label=\"$V(r,t)$\", color=color[3])\n",
    "axs[0,0].plot(r_n, In_real_vis*20, label=\"$\\psi_{real}(r, t)$\", color=color[0])  # Escaled\n",
    "\n",
    "\n",
    "axs[0,1].plot(r_n, Pote*(1/1.5936e-3), \"-\", label=\"$V(r,t)$\", color=color[3])\n",
    "axs[0,1].plot(r_n, In_imag_vis*20, label=\"$\\psi_{imag}(r, t)$\", color =color[1])  # Escaled\n",
    "\n",
    "#axs[0].plot(r_n, Pote_next*(1/1.5936e-3), \"-\", label=\"V(r,t)\", color=color[3])\n",
    "axs[1,0].plot(r_n, Ou_real_vis*20, label=\"$\\psi_{real}(r, t+1)_{True}$\", color=color[0])  # Escaled\n",
    "axs[1,0].scatter(r_n, Pred_real_vis*20, label=\"$\\psi_{real}(r, t+1)_{LSTM}$\", color=color[4], marker='.')  # Escaled\n",
    " \n",
    "\n",
    "axs[1,1].plot(r_n, Ou_imag_vis*20, label=\"$\\psi_{imag}(r, t+1)_{True}$\", color =color[1])  # Escaled\n",
    "axs[1,1].scatter(r_n, Pred_imag_vis*20, label=\"$\\psi_{imag}(r, t+1)_{LSTM}$\", color =color[4], marker='.')  # Escaled\n",
    "\n",
    "\n",
    "# Hide x labels and tick labels for top plots and y ticks for right plots.\n",
    "for ax in axs.flat:\n",
    "    ax.label_outer()\n",
    "    ax.set_ylim([-35,50])\n",
    "    ax.legend()\n",
    "    ax.set(xlabel='Position [$\\AA$]')\n",
    "    ax.label_outer()\n",
    " \n",
    "\n",
    "plt.gcf().set_size_inches(8, 5.33)\n",
    "plt.legend()    \n",
    "plt.show()\n",
    "plt.savefig('/home/jessica/Tesis/img/tesis/model/1step4.png', dpi=700)\n"
   ]
  },
  {
   "cell_type": "markdown",
   "id": "75ba7acd",
   "metadata": {},
   "source": [
    "## Predictions density"
   ]
  },
  {
   "cell_type": "code",
   "execution_count": null,
   "id": "2076be98",
   "metadata": {},
   "outputs": [],
   "source": [
    "for X,y in test_loader:\n",
    "    X, y = X.to(device), y.to(device)\n",
    "    \n",
    "    Entrada = X\n",
    "    \n",
    "    Salida = y\n",
    "\n",
    "    with torch.inference_mode():\n",
    "        Prediccion = model(X.float())\n",
    "    break"
   ]
  },
  {
   "cell_type": "code",
   "execution_count": null,
   "id": "06aa726d",
   "metadata": {},
   "outputs": [],
   "source": [
    "#------------- t=0\n",
    "In_real_vis0 = Entrada[2,0,0:32].detach().numpy()\n",
    "In_imag_vis0 = Entrada[2,0,32:64].detach().numpy()\n",
    "In_dens0 = (np.abs(np.vectorize(complex)(In_real_vis0,In_imag_vis0)))**2\n",
    "\n",
    "Pote0 = Entrada[2,0,64:96].detach().numpy()\n",
    "\n",
    "\n",
    "#------------ t=40 fs\n",
    "Ou_real_vis0 = Salida[2,40,0:32].detach().numpy()\n",
    "Ou_imag_vis0 = Salida[2,40,32:64].detach().numpy()\n",
    "Ou_dens0 = (np.abs(np.vectorize(complex)(Ou_real_vis0,Ou_imag_vis0)))**2\n",
    "      \n",
    "Pred_real_vis0 = Prediccion[2,40,0:32].detach().numpy()\n",
    "Pred_imag_vis0 = Prediccion[2,40,32:64].detach().numpy()\n",
    "Pred_dens0 = (np.abs(np.vectorize(complex)(Pred_real_vis0,Pred_imag_vis0)))**2\n",
    "\n",
    "#-------------- t=80 fs\n",
    "In_real_vis1 = Entrada[2,80,0:32].detach().numpy()\n",
    "In_imag_vis1 = Entrada[2,80,32:64].detach().numpy()\n",
    "Pote1 = Entrada[2,80,64:96].detach().numpy()\n",
    "\n",
    "Ou_real_vis1 = Salida[2,80,0:32].detach().numpy()\n",
    "Ou_imag_vis1 = Salida[2,80,32:64].detach().numpy()\n",
    "Ou_dens1 = (np.abs(np.vectorize(complex)(Ou_real_vis1,Ou_imag_vis1)))**2\n",
    "\n",
    "Pred_real_vis1 = Prediccion[2,80,0:32].detach().numpy()\n",
    "Pred_imag_vis1 = Prediccion[2,80,32:64].detach().numpy()\n",
    "Pred_dens1 = (np.abs(np.vectorize(complex)(Pred_real_vis1,Pred_imag_vis1)))**2\n",
    "\n",
    "#-------------- t=120 fs\n",
    "In_real_vis2 = Entrada[2,120,0:32].detach().numpy()\n",
    "In_imag_vis2 = Entrada[2,120,32:64].detach().numpy()\n",
    "Pote2 = Entrada[2,120,64:96].detach().numpy()\n",
    "\n",
    "Ou_real_vis2 = Salida[2,120,0:32].detach().numpy()\n",
    "Ou_imag_vis2 = Salida[2,120,32:64].detach().numpy()\n",
    "Ou_dens2 = (np.abs(np.vectorize(complex)(Ou_real_vis2,Ou_imag_vis2)))**2\n",
    "\n",
    "Pred_real_vis2 = Prediccion[2,120,0:32].detach().numpy()\n",
    "Pred_imag_vis2 = Prediccion[2,120,32:64].detach().numpy()\n",
    "Pred_dens2 = (np.abs(np.vectorize(complex)(Pred_real_vis2,Pred_imag_vis2)))**2\n",
    "\n",
    "#-------------- t=160 fs\n",
    "In_real_vis3 = Entrada[2,160,0:32].detach().numpy()\n",
    "In_imag_vis3 = Entrada[2,160,32:64].detach().numpy()\n",
    "Pote3 = Entrada[2,160,64:96].detach().numpy()\n",
    "\n",
    "Ou_real_vis3 = Salida[2,160,0:32].detach().numpy()\n",
    "Ou_imag_vis3 = Salida[2,160,32:64].detach().numpy()\n",
    "Ou_dens3 = (np.abs(np.vectorize(complex)(Ou_real_vis3,Ou_imag_vis3)))**2\n",
    "\n",
    "Pred_real_vis3 = Prediccion[2,160,0:32].detach().numpy()\n",
    "Pred_imag_vis3 = Prediccion[2,160,32:64].detach().numpy()\n",
    "Pred_dens3 = (np.abs(np.vectorize(complex)(Pred_real_vis3,Pred_imag_vis3)))**2\n",
    "\n",
    "#-------------- t=200 fs\n",
    "In_real_vis4 = Entrada[2,199,0:32].detach().numpy()\n",
    "In_imag_vis4 = Entrada[2,199,32:64].detach().numpy()\n",
    "Pote4 = Entrada[2,199,64:96].detach().numpy()\n",
    "\n",
    "Ou_real_vis4 = Salida[2,199,0:32].detach().numpy()\n",
    "Ou_imag_vis4 = Salida[2,199,32:64].detach().numpy()\n",
    "Ou_dens4 = (np.abs(np.vectorize(complex)(Ou_real_vis4,Ou_imag_vis4)))**2\n",
    "\n",
    "Pred_real_vis4 = Prediccion[2,199,0:32].detach().numpy()\n",
    "Pred_imag_vis4 = Prediccion[2,199,32:64].detach().numpy()\n",
    "Pred_dens4 = (np.abs(np.vectorize(complex)(Pred_real_vis4,Pred_imag_vis4)))**2\n",
    "\n"
   ]
  },
  {
   "cell_type": "code",
   "execution_count": null,
   "id": "73757fc2",
   "metadata": {},
   "outputs": [],
   "source": [
    "fig, ax = plt.subplots(3,2)\n",
    "\n",
    "    \n",
    "# Time: fs -> au, Lenght: au -> Angstroms, Energy: au -> kcal/mol\n",
    "ax[0,0].plot(r_n, Pote0*(1/1.5936e-3), \"-\", label=\"$V(r,t)$\", color=color[3])\n",
    "ax[0,0].plot(r_n, In_dens0*10, label=\"$|\\psi_{initial}|^{2}$\")\n",
    "ax[0,0].set_title(\"$t=0 fs$\")\n",
    "\n",
    "\n",
    "\n",
    "ax[0,1].plot(r_n, Pote0*(1/1.5936e-3), \"-\", label=\"$V(r,t)$\", color=color[3])\n",
    "ax[0,1].scatter(r_n, Pred_dens0*10, label=\"$|\\psi_{LSTM}|^{2}$\", color=color[4], marker='.')\n",
    "ax[0,1].plot(r_n, Ou_dens0*10, label=\"$|\\psi_{True}|^{2}$\")\n",
    "ax[0,1].set_title(\"$t=40 fs$\")\n",
    "\n",
    "ax[1,0].plot(r_n, Pote1*(1/1.5936e-3), \"-\", label=\"$V(r, t)$\", color=color[3])\n",
    "ax[1,0].scatter(r_n, Pred_dens1*10, label=\"$|\\psi_{LSTM}|^{2}$\", color=color[4], marker='.')\n",
    "ax[1,0].plot(r_n, Ou_dens1*10, label=\"$|\\psi_{True}|^{2}$\")\n",
    "ax[1,0].set_title(\"$t=80 fs$\")\n",
    "\n",
    "ax[1,1].plot(r_n, Pote2*(1/1.5936e-3), \"-\", label=\"$V(r, t)$\", color=color[3])\n",
    "ax[1,1].scatter(r_n, Pred_dens2*(10), label=\"$|\\psi_{LSTM}|^{2}$\", color=color[4], marker='.')\n",
    "ax[1,1].plot(r_n, Ou_dens2*10, label=\"$|\\psi_{True}|^{2}$\")\n",
    "ax[1,1].set_title(\"$t=120 fs$\")\n",
    "\n",
    "ax[2,0].plot(r_n, Pote3*(1/1.5936e-3), \"-\", label=\"$V(r,t)$\", color=color[3])\n",
    "ax[2,0].scatter(r_n, Pred_dens3*(10), label=\"$|\\psi_{LSTM}|^{2}$\", color=color[4], marker='.')\n",
    "ax[2,0].plot(r_n, Ou_dens3*10, label=\"$|\\psi_{True}|^{2}$\")\n",
    "ax[2,0].set_title(\"$t=160 fs$\")\n",
    "\n",
    "ax[2,1].plot(r_n, Pote4*(1/1.5936e-3), \"-\", label=\"$V(r,t)$\", color=color[3])\n",
    "ax[2,1].scatter(r_n, Pred_dens4*(10), label=\"$|\\psi_{LSTM}|^{2}$\", color=color[4], marker='.')\n",
    "ax[2,1].plot(r_n, Ou_dens4*10, label=\"$|\\psi_{True}|^{2}$\")\n",
    "ax[2,1].set_title(\"$t=200 fs$\")\n",
    "\n",
    "\n",
    "\n",
    "\n",
    "\n",
    "\n",
    "\n",
    "for axr1 in ax:\n",
    "    for axr11 in axr1:\n",
    "        axr11.set_ylim([-5, 50])\n",
    "        axr11.legend()\n",
    "        axr11.set(xlabel='Position [$\\AA$]')\n",
    "        \n",
    "# Hide x labels and tick labels for top plots and y ticks for right plots.\n",
    "for ax in ax.flat:\n",
    "    ax.label_outer()\n",
    "    \n",
    "    \n",
    "plt.gcf().set_size_inches(8, 10)\n",
    "#plt.legend()    \n",
    "plt.show()\n",
    "#plt.savefig('/home/jessica/Tesis/img/tesis/model/trajDens11.png', dpi=700)"
   ]
  },
  {
   "cell_type": "markdown",
   "id": "c8001ef1",
   "metadata": {},
   "source": [
    "### Saving data to animation"
   ]
  },
  {
   "cell_type": "markdown",
   "id": "74042eba",
   "metadata": {},
   "source": [
    " #### Inf about X,y predictions\n",
    " \n",
    " `Entrada[no. batch: from 0 to 9, time: from 0 to 200,(real part, imag part, potential)]`  \n",
    " `Salida[no. batch: from 0 to 9, time: from 0 to 200,(real part, imag part)]`  \n",
    " `Prediccion[no. batch: from 0 to 9, time: from 0 to 200,(real part, imag part)]`  "
   ]
  },
  {
   "cell_type": "markdown",
   "id": "9e6e2b77",
   "metadata": {},
   "source": [
    "#### Torch to numpy"
   ]
  },
  {
   "cell_type": "code",
   "execution_count": null,
   "id": "86edd980",
   "metadata": {},
   "outputs": [],
   "source": [
    "newPred = Prediccion.numpy()  # By model real & imag part\n",
    "newSal = Salida.numpy()  # Analitical real & imag part\n",
    "Poten = Entrada[:,:,64:96].numpy()  # Potential"
   ]
  },
  {
   "cell_type": "code",
   "execution_count": null,
   "id": "ed4bc4a0",
   "metadata": {},
   "outputs": [],
   "source": [
    "anim_path = '../Animacion/ModelLSTM-32size'  # animation data file"
   ]
  },
  {
   "cell_type": "code",
   "execution_count": null,
   "id": "a676d7eb",
   "metadata": {},
   "outputs": [],
   "source": [
    "with open(os.path.join(anim_path+'/prediccion.npy'), 'wb') as f:\n",
    "    np.save(f, newPred)"
   ]
  },
  {
   "cell_type": "code",
   "execution_count": null,
   "id": "15be5fa8",
   "metadata": {},
   "outputs": [],
   "source": [
    "with open(os.path.join(anim_path+'/salida.npy'), 'wb') as f:\n",
    "    np.save(f, newSal)"
   ]
  },
  {
   "cell_type": "code",
   "execution_count": null,
   "id": "f0bcba42",
   "metadata": {},
   "outputs": [],
   "source": [
    "with open(os.path.join(anim_path+'/potencial.npy'), 'wb') as f:\n",
    "    np.save(f, Poten)"
   ]
  },
  {
   "cell_type": "markdown",
   "id": "3a91c98c",
   "metadata": {},
   "source": [
    "### Saving data to animation for animation python file "
   ]
  },
  {
   "cell_type": "code",
   "execution_count": 31,
   "id": "b3b7c860",
   "metadata": {},
   "outputs": [],
   "source": [
    "# To save data in a file\n",
    "directory = '../Predictions/'\n",
    "# Creating the file\n",
    "h5f = h5py.File(directory+time.strftime(\"%Y%m%d-%H%M%S\")+'.h5', 'w')"
   ]
  },
  {
   "cell_type": "code",
   "execution_count": null,
   "id": "00b610fd",
   "metadata": {},
   "outputs": [],
   "source": [
    "# Saving X data\n",
    "h5f.create_dataset('dataset_X', data=Entrada)\n",
    "# Saving y data\n",
    "h5f.create_dataset('dataset_y', data=Salida)\n",
    "h5f.create_dataset('dataset_p', data=Prediccion)"
   ]
  },
  {
   "cell_type": "markdown",
   "id": "e82e2526",
   "metadata": {},
   "source": [
    "## New trajectory"
   ]
  },
  {
   "cell_type": "markdown",
   "id": "b7a34d2d",
   "metadata": {},
   "source": [
    "Para asegurar que la red funciona xd"
   ]
  },
  {
   "cell_type": "code",
   "execution_count": null,
   "id": "e5b04fdb",
   "metadata": {},
   "outputs": [],
   "source": [
    "path_test = '../../NewTrajectories/data'  # Directory where are a total new trajectory\n",
    "seq_len = 200  # How many time stamps"
   ]
  },
  {
   "cell_type": "code",
   "execution_count": null,
   "id": "e1c70e5f",
   "metadata": {},
   "outputs": [],
   "source": [
    "dataset_newTest = Propagator_Dataset(data=path_test, targets=path_test, transform=True, sequence_len=seq_len, total_data = 1*200)"
   ]
  },
  {
   "cell_type": "code",
   "execution_count": null,
   "id": "33257888",
   "metadata": {},
   "outputs": [],
   "source": [
    "newTraj = DataLoader(dataset_newTest)"
   ]
  },
  {
   "cell_type": "code",
   "execution_count": null,
   "id": "c8fc0643",
   "metadata": {},
   "outputs": [],
   "source": [
    "for X,y in newTraj:\n",
    "    X, y = X.to(device), y.to(device)\n",
    "    \n",
    "    Entrada = X\n",
    "    \n",
    "    Salida = y\n",
    "    with torch.inference_mode():\n",
    "        Prediccion = model(X.float())\n",
    "    break"
   ]
  },
  {
   "cell_type": "code",
   "execution_count": null,
   "id": "f1bc1663",
   "metadata": {},
   "outputs": [],
   "source": [
    "print(Entrada.shape)\n",
    "print(Prediccion.shape)\n",
    "print(Salida.shape)"
   ]
  },
  {
   "cell_type": "code",
   "execution_count": null,
   "id": "af4951f2",
   "metadata": {},
   "outputs": [],
   "source": [
    "r_n = np.linspace(-1.5,1.5,32)\n",
    "\n",
    "time = int(60)  # from 0 to 199 fs\n",
    "\n",
    "In_real_vis = Entrada[0,time,0:32].detach().numpy()\n",
    "In_imag_vis = Entrada[0,time,32:64].detach().numpy()\n",
    "Pote = Entrada[0,time,64:96].detach().numpy()\n",
    "\n",
    "Ou_real_vis = Salida[0,time,0:32].detach().numpy()\n",
    "Ou_imag_vis = Salida[0,time,32:64].detach().numpy()\n",
    "Pote_next = Entrada[0,time+1,64:96].detach().numpy()\n",
    "\n",
    "Pred_real_vis = Prediccion[0,time,0:32].detach().numpy()\n",
    "Pred_imag_vis = Prediccion[0,time,32:64].detach().numpy()"
   ]
  },
  {
   "cell_type": "code",
   "execution_count": null,
   "id": "94e628b2",
   "metadata": {},
   "outputs": [],
   "source": [
    "fig, axs = plt.subplots(2,2)\n",
    "\n",
    "# Lenght: au -> Angstroms\n",
    "axs[0,0].plot(r_n, Pote*(1/1.5936e-3), \"-\", label=\"V(r,t)\")\n",
    "axs[0,0].plot(r_n, In_real_vis*20, label=\"$\\psi_{r}(r, t)$\")  # Escaled\n",
    "\n",
    "\n",
    "axs[0,1].plot(r_n, Pote*(1/1.5936e-3), \"-\", label=\"V(r,t)\")\n",
    "axs[0,1].plot(r_n, In_imag_vis*20, label=\"$\\psi_{i}(r, t)$\")  # Escaled\n",
    "\n",
    "#axs[0].plot(r_n, Pote_next*(1/1.5936e-3), \"-\", label=\"V(r,t)\", color=color[3])\n",
    "axs[1,0].plot(r_n, Ou_real_vis*20, label=\"$\\psi_{r}(r, t+1)_{True}$\")  # Escaled\n",
    "axs[1,0].scatter(r_n, Pred_real_vis*20, label=\"$\\psi_{r}(r, t+1)_{LSTM}$\", marker='.')  # Escaled\n",
    "\n",
    "\n",
    "axs[1,1].plot(r_n, Ou_imag_vis*20, label=\"$\\psi_{i}(r, t+1)_{True}$\")  # Escaled\n",
    "axs[1,1].scatter(r_n, Pred_imag_vis*20, label=\"$\\psi_{i}(r, t+1)_{LSTM}$\", marker='.')  # Escaled\n",
    "\n",
    "for axr1 in axs:\n",
    "    for axr11 in axr1:\n",
    "        axr11.set_ylim([-20, 60])\n",
    "        axr11.legend()\n",
    "        axr11.set(xlabel='Position [$\\AA$]', ylabel='Energy [Kcal/mol]')\n",
    "# Hide x labels and tick labels for top plots and y ticks for right plots.\n",
    "for ax in axs.flat:\n",
    "    ax.label_outer()\n",
    "    \n",
    "plt.gcf().set_size_inches(9, 5)\n",
    "plt.legend()    \n",
    "plt.show()"
   ]
  },
  {
   "cell_type": "markdown",
   "id": "2a73d7cc",
   "metadata": {},
   "source": [
    "yes it works"
   ]
  },
  {
   "cell_type": "markdown",
   "id": "bf50e24d",
   "metadata": {},
   "source": [
    "## Loss and S\n",
    "___"
   ]
  },
  {
   "cell_type": "code",
   "execution_count": null,
   "id": "4cb353e5",
   "metadata": {},
   "outputs": [],
   "source": []
  },
  {
   "cell_type": "code",
   "execution_count": null,
   "id": "b80014a1",
   "metadata": {},
   "outputs": [],
   "source": [
    "import csv\n",
    "\n",
    "fileS1 = '../runs/Aug06_16-54-53_Aldos-MBP.fritz.boxUpdate2LSTM_1024neu_seq200_BATCH_10_LR_1E-4_4700DATA/Aug06.csv'\n",
    "fileS2 = '../runs/Aug06_16-54-53_Aldos-MBP.fritz.boxUpdate2LSTM_1024neu_seq200_BATCH_10_LR_1E-4_4700DATA/Aug12-S.csv.csv'\n",
    "\n",
    "fileT1 = '../runs/Aug06_16-54-53_Aldos-MBP.fritz.boxUpdate2LSTM_1024neu_seq200_BATCH_10_LR_1E-4_4700DATA/Aug06-tetha.csv'\n",
    "fileT2 = '../runs/Aug06_16-54-53_Aldos-MBP.fritz.boxUpdate2LSTM_1024neu_seq200_BATCH_10_LR_1E-4_4700DATA/Aug12-tetha.csv'\n",
    "\n",
    "fileLTra1 = '../runs/Aug06_16-54-53_Aldos-MBP.fritz.boxUpdate2LSTM_1024neu_seq200_BATCH_10_LR_1E-4_4700DATA/Aug06-lossTrain.csv'\n",
    "fileLTra2 = '../runs/Aug06_16-54-53_Aldos-MBP.fritz.boxUpdate2LSTM_1024neu_seq200_BATCH_10_LR_1E-4_4700DATA/Aug12-lossTrain.csv'\n",
    "\n",
    "fileLTe1 = '../runs/Aug06_16-54-53_Aldos-MBP.fritz.boxUpdate2LSTM_1024neu_seq200_BATCH_10_LR_1E-4_4700DATA/Aug06-lossTest.csv'\n",
    "fileLTe2 = '../runs/Aug06_16-54-53_Aldos-MBP.fritz.boxUpdate2LSTM_1024neu_seq200_BATCH_10_LR_1E-4_4700DATA/Aug12-lossTest.csv'\n",
    "\n",
    "\n",
    "\n",
    "\n"
   ]
  },
  {
   "cell_type": "code",
   "execution_count": null,
   "id": "61a5601a",
   "metadata": {},
   "outputs": [],
   "source": [
    "import pandas as pd\n",
    "#headers = ['Wall time', 'Step', 'Value']\n",
    "\n",
    "dfS1 = pd.read_csv(fileS1)\n",
    "dfS2 = pd.read_csv(fileS2)\n",
    "\n",
    "dfT1 = pd.read_csv(fileT1)\n",
    "dfT2 = pd.read_csv(fileT2)\n",
    "\n",
    "dfLTra1 = pd.read_csv(fileLTra1)\n",
    "dfLTra2 = pd.read_csv(fileLTra2)\n",
    "\n",
    "dfLTe1 = pd.read_csv(fileLTe1)\n",
    "dfLTe2 = pd.read_csv(fileLTe2)\n"
   ]
  },
  {
   "cell_type": "code",
   "execution_count": null,
   "id": "88828d55",
   "metadata": {},
   "outputs": [],
   "source": [
    "dfS = pd.concat([dfS1, dfS2], ignore_index=True, sort=False)\n",
    "dfth = pd.concat([dfT1, dfT2], ignore_index=True, sort=False)\n",
    "dfLTra = pd.concat([dfLTra1, dfLTra2], ignore_index=True, sort=False)\n",
    "dfLTe = pd.concat([dfLTe1, dfLTe2], ignore_index=True, sort=False)"
   ]
  },
  {
   "cell_type": "code",
   "execution_count": null,
   "id": "8510d863",
   "metadata": {},
   "outputs": [],
   "source": [
    "dfS.tail"
   ]
  },
  {
   "cell_type": "code",
   "execution_count": null,
   "id": "eebedbb6",
   "metadata": {},
   "outputs": [],
   "source": [
    "#dfS.plot(x = 'Step', y = 'Value')\n",
    "fig, ax = plt.subplots(1,2)\n",
    "\n",
    "ax[0].plot(dfS[\"Step\"], dfS[\"Value\"]*0.01, color=color[2])\n",
    "ax[0].set_xlabel('Epoch')\n",
    "ax[0].set_ylabel('Absolute Magnitude $|S|$')\n",
    "\n",
    "ax[1].plot(dfS[\"Step\"], dfth[\"Value\"], color=color[2])\n",
    "ax[1].set_xlabel('Epoch')\n",
    "ax[1].set_ylabel(r'Phase $\\theta$')\n",
    "\n",
    "\n",
    "plt.gcf().set_size_inches(11, 4)\n",
    "plt.savefig('/home/jessica/Tesis/img/tesis/S-plot.png', dpi=700)\n",
    "plt.show()"
   ]
  },
  {
   "cell_type": "code",
   "execution_count": null,
   "id": "58a77187",
   "metadata": {},
   "outputs": [],
   "source": [
    "def my_tb_smooth(scalars: list[float], weight: float) -> list[float]:  # Weight between 0 and 1\n",
    "    \"\"\"\n",
    "\n",
    "    ref: https://stackoverflow.com/questions/42011419/is-it-possible-to-call-tensorboard-smooth-function-manually\n",
    "\n",
    "    :param scalars:\n",
    "    :param weight:\n",
    "    :return:\n",
    "    \"\"\"\n",
    "    last = scalars[0]  # First value in the plot (first timestep)\n",
    "    smoothed: list = []\n",
    "    for point in scalars:\n",
    "        smoothed_val = last * weight + (1 - weight) * point  # Calculate smoothed value\n",
    "        smoothed.append(smoothed_val)                        # Save it\n",
    "        last = smoothed_val                                  # Anchor the last smoothed value\n",
    "    return smoothed"
   ]
  },
  {
   "cell_type": "code",
   "execution_count": null,
   "id": "e2c1e481",
   "metadata": {},
   "outputs": [],
   "source": [
    "anu = my_tb_smooth(dfLTra[\"Value\"], 0.9)"
   ]
  },
  {
   "cell_type": "code",
   "execution_count": null,
   "id": "60ada353",
   "metadata": {},
   "outputs": [],
   "source": [
    "fig, ax = plt.subplots()\n",
    "\n",
    "ax.plot(dfS[\"Step\"], anu, color=color[2], label='Train')\n",
    "ax.plot(dfS[\"Step\"], dfLTe[\"Value\"], color=color[4], label='Test')\n",
    "ax.set_xlabel('Epoch')\n",
    "ax.set_ylabel('Loss')\n",
    "\n",
    "\n",
    "\n",
    "plt.legend()\n",
    "plt.gcf().set_size_inches(6, 4)\n",
    "plt.savefig('/home/jessica/Tesis/img/tesis/Loss-plot.png', dpi=700)\n",
    "plt.show()"
   ]
  },
  {
   "cell_type": "code",
   "execution_count": null,
   "id": "9fe32c15",
   "metadata": {},
   "outputs": [],
   "source": []
  },
  {
   "cell_type": "code",
   "execution_count": null,
   "id": "286dc5e5",
   "metadata": {},
   "outputs": [],
   "source": []
  },
  {
   "cell_type": "code",
   "execution_count": null,
   "id": "9c01e984",
   "metadata": {},
   "outputs": [],
   "source": []
  },
  {
   "cell_type": "code",
   "execution_count": null,
   "id": "8a0b45c6",
   "metadata": {},
   "outputs": [],
   "source": []
  },
  {
   "cell_type": "code",
   "execution_count": null,
   "id": "e98b411a",
   "metadata": {},
   "outputs": [],
   "source": []
  }
 ],
 "metadata": {
  "kernelspec": {
   "display_name": "Python 3 (ipykernel)",
   "language": "python",
   "name": "python3"
  },
  "language_info": {
   "codemirror_mode": {
    "name": "ipython",
    "version": 3
   },
   "file_extension": ".py",
   "mimetype": "text/x-python",
   "name": "python",
   "nbconvert_exporter": "python",
   "pygments_lexer": "ipython3",
   "version": "3.9.7"
  }
 },
 "nbformat": 4,
 "nbformat_minor": 5
}
